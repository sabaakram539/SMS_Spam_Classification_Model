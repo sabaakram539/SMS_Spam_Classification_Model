{
  "nbformat": 4,
  "nbformat_minor": 0,
  "metadata": {
    "colab": {
      "name": "SMS_spam_classification.ipynb",
      "provenance": [],
      "collapsed_sections": [],
      "authorship_tag": "ABX9TyPVcfwMhs7Dow+uz29klPhB",
      "include_colab_link": true
    },
    "kernelspec": {
      "name": "python3",
      "display_name": "Python 3"
    },
    "language_info": {
      "name": "python"
    }
  },
  "cells": [
    {
      "cell_type": "markdown",
      "metadata": {
        "id": "view-in-github",
        "colab_type": "text"
      },
      "source": [
        "<a href=\"https://colab.research.google.com/github/sabaakram539/SMS_Spam_classification/blob/main/SMS_spam_classification.ipynb\" target=\"_parent\"><img src=\"https://colab.research.google.com/assets/colab-badge.svg\" alt=\"Open In Colab\"/></a>"
      ]
    },
    {
      "cell_type": "markdown",
      "metadata": {
        "id": "Lgo53MIE1n_f"
      },
      "source": [
        "# **Phase 1. Business Understanding**\n",
        "In our daily lives, we face many spam messages in our inboxes. I am going to download a spam data from the kaggle, will work on it and through this project we will develop a spam classification model that will tell us if the message is a spam.Let's dig in."
      ]
    },
    {
      "cell_type": "markdown",
      "metadata": {
        "id": "qiDcD8Cw7Y7y"
      },
      "source": [
        "# **Phase 2. Data Understanding**"
      ]
    },
    {
      "cell_type": "markdown",
      "metadata": {
        "id": "ovc7vqfG4NfA"
      },
      "source": [
        ">> ## **Importing the dataset**"
      ]
    },
    {
      "cell_type": "code",
      "metadata": {
        "id": "qvxY89lt4Soc"
      },
      "source": [
        "import pandas as pd\n",
        "import numpy as np"
      ],
      "execution_count": 210,
      "outputs": []
    },
    {
      "cell_type": "code",
      "metadata": {
        "id": "uMjPmgiHiJpG",
        "colab": {
          "base_uri": "https://localhost:8080/",
          "height": 204
        },
        "outputId": "236d77b6-0ef5-495d-b1f7-47b7943ccdbb"
      },
      "source": [
        "data=pd.read_excel('spam.xlsx')\n",
        "data.sample(5)"
      ],
      "execution_count": 211,
      "outputs": [
        {
          "output_type": "execute_result",
          "data": {
            "text/html": [
              "<div>\n",
              "<style scoped>\n",
              "    .dataframe tbody tr th:only-of-type {\n",
              "        vertical-align: middle;\n",
              "    }\n",
              "\n",
              "    .dataframe tbody tr th {\n",
              "        vertical-align: top;\n",
              "    }\n",
              "\n",
              "    .dataframe thead th {\n",
              "        text-align: right;\n",
              "    }\n",
              "</style>\n",
              "<table border=\"1\" class=\"dataframe\">\n",
              "  <thead>\n",
              "    <tr style=\"text-align: right;\">\n",
              "      <th></th>\n",
              "      <th>v1</th>\n",
              "      <th>v2</th>\n",
              "      <th>Unnamed: 2</th>\n",
              "      <th>Unnamed: 3</th>\n",
              "      <th>Unnamed: 4</th>\n",
              "    </tr>\n",
              "  </thead>\n",
              "  <tbody>\n",
              "    <tr>\n",
              "      <th>4910</th>\n",
              "      <td>ham</td>\n",
              "      <td>Love that holiday Monday feeling even if I hav...</td>\n",
              "      <td>NaN</td>\n",
              "      <td>NaN</td>\n",
              "      <td>NaN</td>\n",
              "    </tr>\n",
              "    <tr>\n",
              "      <th>756</th>\n",
              "      <td>ham</td>\n",
              "      <td>Cant think of anyone with * spare room off * t...</td>\n",
              "      <td>NaN</td>\n",
              "      <td>NaN</td>\n",
              "      <td>NaN</td>\n",
              "    </tr>\n",
              "    <tr>\n",
              "      <th>3781</th>\n",
              "      <td>ham</td>\n",
              "      <td>How r Ì_ going to send it to me?</td>\n",
              "      <td>NaN</td>\n",
              "      <td>NaN</td>\n",
              "      <td>NaN</td>\n",
              "    </tr>\n",
              "    <tr>\n",
              "      <th>3027</th>\n",
              "      <td>ham</td>\n",
              "      <td>You have got tallent but you are wasting.</td>\n",
              "      <td>NaN</td>\n",
              "      <td>NaN</td>\n",
              "      <td>NaN</td>\n",
              "    </tr>\n",
              "    <tr>\n",
              "      <th>2691</th>\n",
              "      <td>ham</td>\n",
              "      <td>Hey tmr meet at bugis 930 ?</td>\n",
              "      <td>NaN</td>\n",
              "      <td>NaN</td>\n",
              "      <td>NaN</td>\n",
              "    </tr>\n",
              "  </tbody>\n",
              "</table>\n",
              "</div>"
            ],
            "text/plain": [
              "       v1  ... Unnamed: 4\n",
              "4910  ham  ...        NaN\n",
              "756   ham  ...        NaN\n",
              "3781  ham  ...        NaN\n",
              "3027  ham  ...        NaN\n",
              "2691  ham  ...        NaN\n",
              "\n",
              "[5 rows x 5 columns]"
            ]
          },
          "metadata": {},
          "execution_count": 211
        }
      ]
    },
    {
      "cell_type": "code",
      "metadata": {
        "colab": {
          "base_uri": "https://localhost:8080/"
        },
        "id": "RiPBgzPO4oMG",
        "outputId": "2fe5a4b9-1ea2-4244-de44-821e5a4997a7"
      },
      "source": [
        "data.shape"
      ],
      "execution_count": 212,
      "outputs": [
        {
          "output_type": "execute_result",
          "data": {
            "text/plain": [
              "(5572, 5)"
            ]
          },
          "metadata": {},
          "execution_count": 212
        }
      ]
    },
    {
      "cell_type": "markdown",
      "metadata": {
        "id": "Nyh0nZDq91r4"
      },
      "source": [
        ">> ## **Data Cleaning**"
      ]
    },
    {
      "cell_type": "code",
      "metadata": {
        "id": "vKvAaxFN7oxL"
      },
      "source": [
        "data.drop(columns=['Unnamed: 2','Unnamed: 3','Unnamed: 4'],inplace=True)"
      ],
      "execution_count": 213,
      "outputs": []
    },
    {
      "cell_type": "code",
      "metadata": {
        "colab": {
          "base_uri": "https://localhost:8080/",
          "height": 204
        },
        "id": "SlcchkE3-FFC",
        "outputId": "a1326278-b020-43d1-aa95-2329181d3e33"
      },
      "source": [
        "data.sample(5)"
      ],
      "execution_count": 214,
      "outputs": [
        {
          "output_type": "execute_result",
          "data": {
            "text/html": [
              "<div>\n",
              "<style scoped>\n",
              "    .dataframe tbody tr th:only-of-type {\n",
              "        vertical-align: middle;\n",
              "    }\n",
              "\n",
              "    .dataframe tbody tr th {\n",
              "        vertical-align: top;\n",
              "    }\n",
              "\n",
              "    .dataframe thead th {\n",
              "        text-align: right;\n",
              "    }\n",
              "</style>\n",
              "<table border=\"1\" class=\"dataframe\">\n",
              "  <thead>\n",
              "    <tr style=\"text-align: right;\">\n",
              "      <th></th>\n",
              "      <th>v1</th>\n",
              "      <th>v2</th>\n",
              "    </tr>\n",
              "  </thead>\n",
              "  <tbody>\n",
              "    <tr>\n",
              "      <th>3597</th>\n",
              "      <td>ham</td>\n",
              "      <td>Aight, we'll head out in a few</td>\n",
              "    </tr>\n",
              "    <tr>\n",
              "      <th>1116</th>\n",
              "      <td>ham</td>\n",
              "      <td>Hey... What time is your driving on fri? We go...</td>\n",
              "    </tr>\n",
              "    <tr>\n",
              "      <th>1468</th>\n",
              "      <td>spam</td>\n",
              "      <td>Hi its LUCY Hubby at meetins all day Fri &amp; I w...</td>\n",
              "    </tr>\n",
              "    <tr>\n",
              "      <th>4875</th>\n",
              "      <td>spam</td>\n",
              "      <td>lyricalladie(21/F) is inviting you to be her f...</td>\n",
              "    </tr>\n",
              "    <tr>\n",
              "      <th>4557</th>\n",
              "      <td>ham</td>\n",
              "      <td>PISS IS TALKING IS SOMEONE THAT REALISE U THAT...</td>\n",
              "    </tr>\n",
              "  </tbody>\n",
              "</table>\n",
              "</div>"
            ],
            "text/plain": [
              "        v1                                                 v2\n",
              "3597   ham                     Aight, we'll head out in a few\n",
              "1116   ham  Hey... What time is your driving on fri? We go...\n",
              "1468  spam  Hi its LUCY Hubby at meetins all day Fri & I w...\n",
              "4875  spam  lyricalladie(21/F) is inviting you to be her f...\n",
              "4557   ham  PISS IS TALKING IS SOMEONE THAT REALISE U THAT..."
            ]
          },
          "metadata": {},
          "execution_count": 214
        }
      ]
    },
    {
      "cell_type": "code",
      "metadata": {
        "id": "lUSx2OVb9M24"
      },
      "source": [
        "data.rename(columns={'v1':\"target\",'v2':'messages'},inplace=True)"
      ],
      "execution_count": 215,
      "outputs": []
    },
    {
      "cell_type": "code",
      "metadata": {
        "colab": {
          "base_uri": "https://localhost:8080/",
          "height": 111
        },
        "id": "Je4DlZa_-Qvv",
        "outputId": "fd69fe8b-1f68-4e5a-8323-7b5ef82ad6d0"
      },
      "source": [
        "data.head(2)"
      ],
      "execution_count": 216,
      "outputs": [
        {
          "output_type": "execute_result",
          "data": {
            "text/html": [
              "<div>\n",
              "<style scoped>\n",
              "    .dataframe tbody tr th:only-of-type {\n",
              "        vertical-align: middle;\n",
              "    }\n",
              "\n",
              "    .dataframe tbody tr th {\n",
              "        vertical-align: top;\n",
              "    }\n",
              "\n",
              "    .dataframe thead th {\n",
              "        text-align: right;\n",
              "    }\n",
              "</style>\n",
              "<table border=\"1\" class=\"dataframe\">\n",
              "  <thead>\n",
              "    <tr style=\"text-align: right;\">\n",
              "      <th></th>\n",
              "      <th>target</th>\n",
              "      <th>messages</th>\n",
              "    </tr>\n",
              "  </thead>\n",
              "  <tbody>\n",
              "    <tr>\n",
              "      <th>0</th>\n",
              "      <td>ham</td>\n",
              "      <td>Go until jurong point, crazy.. Available only ...</td>\n",
              "    </tr>\n",
              "    <tr>\n",
              "      <th>1</th>\n",
              "      <td>ham</td>\n",
              "      <td>Ok lar... Joking wif u oni...</td>\n",
              "    </tr>\n",
              "  </tbody>\n",
              "</table>\n",
              "</div>"
            ],
            "text/plain": [
              "  target                                           messages\n",
              "0    ham  Go until jurong point, crazy.. Available only ...\n",
              "1    ham                      Ok lar... Joking wif u oni..."
            ]
          },
          "metadata": {},
          "execution_count": 216
        }
      ]
    },
    {
      "cell_type": "code",
      "metadata": {
        "colab": {
          "base_uri": "https://localhost:8080/"
        },
        "id": "k2MfaYG2cskN",
        "outputId": "f69973a2-042b-48b4-ad40-bdef17278544"
      },
      "source": [
        "data.info()"
      ],
      "execution_count": 217,
      "outputs": [
        {
          "output_type": "stream",
          "name": "stdout",
          "text": [
            "<class 'pandas.core.frame.DataFrame'>\n",
            "RangeIndex: 5572 entries, 0 to 5571\n",
            "Data columns (total 2 columns):\n",
            " #   Column    Non-Null Count  Dtype \n",
            "---  ------    --------------  ----- \n",
            " 0   target    5572 non-null   object\n",
            " 1   messages  5572 non-null   object\n",
            "dtypes: object(2)\n",
            "memory usage: 87.2+ KB\n"
          ]
        }
      ]
    },
    {
      "cell_type": "code",
      "metadata": {
        "colab": {
          "base_uri": "https://localhost:8080/"
        },
        "id": "ExD7sI2F-S6G",
        "outputId": "83d65579-bc39-49a0-f321-842965a5d268"
      },
      "source": [
        "data.target.value_counts()"
      ],
      "execution_count": 218,
      "outputs": [
        {
          "output_type": "execute_result",
          "data": {
            "text/plain": [
              "ham     4825\n",
              "spam     747\n",
              "Name: target, dtype: int64"
            ]
          },
          "metadata": {},
          "execution_count": 218
        }
      ]
    },
    {
      "cell_type": "code",
      "metadata": {
        "id": "oid7qVh7-Z6D"
      },
      "source": [
        "data['target']=data.target.map({'spam':1,'ham':0})"
      ],
      "execution_count": 219,
      "outputs": []
    },
    {
      "cell_type": "code",
      "metadata": {
        "colab": {
          "base_uri": "https://localhost:8080/",
          "height": 111
        },
        "id": "ezHcNuIr-oab",
        "outputId": "a3dcd3de-dae6-4548-ff1c-aa23331fe116"
      },
      "source": [
        "data.head(2)"
      ],
      "execution_count": 220,
      "outputs": [
        {
          "output_type": "execute_result",
          "data": {
            "text/html": [
              "<div>\n",
              "<style scoped>\n",
              "    .dataframe tbody tr th:only-of-type {\n",
              "        vertical-align: middle;\n",
              "    }\n",
              "\n",
              "    .dataframe tbody tr th {\n",
              "        vertical-align: top;\n",
              "    }\n",
              "\n",
              "    .dataframe thead th {\n",
              "        text-align: right;\n",
              "    }\n",
              "</style>\n",
              "<table border=\"1\" class=\"dataframe\">\n",
              "  <thead>\n",
              "    <tr style=\"text-align: right;\">\n",
              "      <th></th>\n",
              "      <th>target</th>\n",
              "      <th>messages</th>\n",
              "    </tr>\n",
              "  </thead>\n",
              "  <tbody>\n",
              "    <tr>\n",
              "      <th>0</th>\n",
              "      <td>0</td>\n",
              "      <td>Go until jurong point, crazy.. Available only ...</td>\n",
              "    </tr>\n",
              "    <tr>\n",
              "      <th>1</th>\n",
              "      <td>0</td>\n",
              "      <td>Ok lar... Joking wif u oni...</td>\n",
              "    </tr>\n",
              "  </tbody>\n",
              "</table>\n",
              "</div>"
            ],
            "text/plain": [
              "   target                                           messages\n",
              "0       0  Go until jurong point, crazy.. Available only ...\n",
              "1       0                      Ok lar... Joking wif u oni..."
            ]
          },
          "metadata": {},
          "execution_count": 220
        }
      ]
    },
    {
      "cell_type": "code",
      "metadata": {
        "colab": {
          "base_uri": "https://localhost:8080/"
        },
        "id": "eVnIGkAY-y_f",
        "outputId": "7b41c51c-470b-4c87-d6a2-836c729a5e3d"
      },
      "source": [
        "data.isnull().sum()"
      ],
      "execution_count": 221,
      "outputs": [
        {
          "output_type": "execute_result",
          "data": {
            "text/plain": [
              "target      0\n",
              "messages    0\n",
              "dtype: int64"
            ]
          },
          "metadata": {},
          "execution_count": 221
        }
      ]
    },
    {
      "cell_type": "code",
      "metadata": {
        "colab": {
          "base_uri": "https://localhost:8080/"
        },
        "id": "XXUp2mmo_E10",
        "outputId": "024c35e9-e487-4bb1-a014-8f4fb4cba6c3"
      },
      "source": [
        "data.duplicated().sum()"
      ],
      "execution_count": 222,
      "outputs": [
        {
          "output_type": "execute_result",
          "data": {
            "text/plain": [
              "403"
            ]
          },
          "metadata": {},
          "execution_count": 222
        }
      ]
    },
    {
      "cell_type": "code",
      "metadata": {
        "id": "QWePIzEb_Rbr"
      },
      "source": [
        "data=data.drop_duplicates(keep='first')"
      ],
      "execution_count": 223,
      "outputs": []
    },
    {
      "cell_type": "code",
      "metadata": {
        "colab": {
          "base_uri": "https://localhost:8080/"
        },
        "id": "-E1WcEeQ_X4k",
        "outputId": "6ff3b44b-3d2a-4b17-cc7f-6b443ef60864"
      },
      "source": [
        "data.shape"
      ],
      "execution_count": 224,
      "outputs": [
        {
          "output_type": "execute_result",
          "data": {
            "text/plain": [
              "(5169, 2)"
            ]
          },
          "metadata": {},
          "execution_count": 224
        }
      ]
    },
    {
      "cell_type": "markdown",
      "metadata": {
        "id": "j9QzPj6M_vWG"
      },
      "source": [
        ">> ## **Exploratory Data Analysis**"
      ]
    },
    {
      "cell_type": "code",
      "metadata": {
        "colab": {
          "base_uri": "https://localhost:8080/"
        },
        "id": "deh4hfomMy9q",
        "outputId": "2dfb8358-0dbd-4244-cb93-dac18605675b"
      },
      "source": [
        "data.info()"
      ],
      "execution_count": 225,
      "outputs": [
        {
          "output_type": "stream",
          "name": "stdout",
          "text": [
            "<class 'pandas.core.frame.DataFrame'>\n",
            "Int64Index: 5169 entries, 0 to 5571\n",
            "Data columns (total 2 columns):\n",
            " #   Column    Non-Null Count  Dtype \n",
            "---  ------    --------------  ----- \n",
            " 0   target    5169 non-null   int64 \n",
            " 1   messages  5169 non-null   object\n",
            "dtypes: int64(1), object(1)\n",
            "memory usage: 121.1+ KB\n"
          ]
        }
      ]
    },
    {
      "cell_type": "code",
      "metadata": {
        "id": "dLnutNhMM3Gc"
      },
      "source": [
        "data['messages']=data['messages'].astype(str)"
      ],
      "execution_count": 226,
      "outputs": []
    },
    {
      "cell_type": "code",
      "metadata": {
        "colab": {
          "base_uri": "https://localhost:8080/"
        },
        "id": "qeNZhiLi_aL7",
        "outputId": "ba8985cf-48e5-4834-ecca-a64fca8154d0"
      },
      "source": [
        "data.target.value_counts()"
      ],
      "execution_count": 227,
      "outputs": [
        {
          "output_type": "execute_result",
          "data": {
            "text/plain": [
              "0    4516\n",
              "1     653\n",
              "Name: target, dtype: int64"
            ]
          },
          "metadata": {},
          "execution_count": 227
        }
      ]
    },
    {
      "cell_type": "code",
      "metadata": {
        "id": "92RdWCl5AzHS"
      },
      "source": [
        "import matplotlib.pyplot as plt"
      ],
      "execution_count": 228,
      "outputs": []
    },
    {
      "cell_type": "code",
      "metadata": {
        "colab": {
          "base_uri": "https://localhost:8080/",
          "height": 466
        },
        "id": "AYIk3-ONBC_O",
        "outputId": "65f3a3a0-b1ca-4c53-ee87-6bcd240ac1a5"
      },
      "source": [
        "plt.figure(figsize=(20,8))\n",
        "plt.pie(data.target.value_counts(),labels=['ham','spam'],autopct=\"%1.2f%%\",shadow=True,explode=[0,0.20],colors=[\"lightblue\",\"lightgreen\"])\n",
        "plt.show()"
      ],
      "execution_count": 229,
      "outputs": [
        {
          "output_type": "display_data",
          "data": {
            "image/png": "[encoded data removed]",
            "text/plain": [
              "<Figure size 1440x576 with 1 Axes>"
            ]
          },
          "metadata": {}
        }
      ]
    },
    {
      "cell_type": "code",
      "metadata": {
        "id": "i8GUTSduBp6k",
        "colab": {
          "base_uri": "https://localhost:8080/"
        },
        "outputId": "e889e4dd-ad5a-4c7c-82e1-8484f925325b"
      },
      "source": [
        "import nltk\n",
        "from nltk.corpus import stopwords\n",
        "nltk.download('punkt')"
      ],
      "execution_count": 230,
      "outputs": [
        {
          "output_type": "stream",
          "name": "stdout",
          "text": [
            "[nltk_data] Downloading package punkt to /root/nltk_data...\n",
            "[nltk_data]   Package punkt is already up-to-date!\n"
          ]
        },
        {
          "output_type": "execute_result",
          "data": {
            "text/plain": [
              "True"
            ]
          },
          "metadata": {},
          "execution_count": 230
        }
      ]
    },
    {
      "cell_type": "code",
      "metadata": {
        "colab": {
          "base_uri": "https://localhost:8080/"
        },
        "id": "uUz2KdblY0xf",
        "outputId": "eae59b6a-b89e-4582-afae-5d6fb6d8527e"
      },
      "source": [
        "print(len(data['messages'][2]))"
      ],
      "execution_count": 231,
      "outputs": [
        {
          "output_type": "stream",
          "name": "stdout",
          "text": [
            "155\n"
          ]
        }
      ]
    },
    {
      "cell_type": "code",
      "metadata": {
        "id": "8sM5PzkfYDEn"
      },
      "source": [
        "data['total_characters']=data['messages'].apply(lambda x: len(x))"
      ],
      "execution_count": 232,
      "outputs": []
    },
    {
      "cell_type": "code",
      "metadata": {
        "colab": {
          "base_uri": "https://localhost:8080/",
          "height": 204
        },
        "id": "M-2hcwCVYWu5",
        "outputId": "52745194-b425-44d4-ad2e-31286dfcc484"
      },
      "source": [
        "data.head()"
      ],
      "execution_count": 233,
      "outputs": [
        {
          "output_type": "execute_result",
          "data": {
            "text/html": [
              "<div>\n",
              "<style scoped>\n",
              "    .dataframe tbody tr th:only-of-type {\n",
              "        vertical-align: middle;\n",
              "    }\n",
              "\n",
              "    .dataframe tbody tr th {\n",
              "        vertical-align: top;\n",
              "    }\n",
              "\n",
              "    .dataframe thead th {\n",
              "        text-align: right;\n",
              "    }\n",
              "</style>\n",
              "<table border=\"1\" class=\"dataframe\">\n",
              "  <thead>\n",
              "    <tr style=\"text-align: right;\">\n",
              "      <th></th>\n",
              "      <th>target</th>\n",
              "      <th>messages</th>\n",
              "      <th>total_characters</th>\n",
              "    </tr>\n",
              "  </thead>\n",
              "  <tbody>\n",
              "    <tr>\n",
              "      <th>0</th>\n",
              "      <td>0</td>\n",
              "      <td>Go until jurong point, crazy.. Available only ...</td>\n",
              "      <td>111</td>\n",
              "    </tr>\n",
              "    <tr>\n",
              "      <th>1</th>\n",
              "      <td>0</td>\n",
              "      <td>Ok lar... Joking wif u oni...</td>\n",
              "      <td>29</td>\n",
              "    </tr>\n",
              "    <tr>\n",
              "      <th>2</th>\n",
              "      <td>1</td>\n",
              "      <td>Free entry in 2 a wkly comp to win FA Cup fina...</td>\n",
              "      <td>155</td>\n",
              "    </tr>\n",
              "    <tr>\n",
              "      <th>3</th>\n",
              "      <td>0</td>\n",
              "      <td>U dun say so early hor... U c already then say...</td>\n",
              "      <td>49</td>\n",
              "    </tr>\n",
              "    <tr>\n",
              "      <th>4</th>\n",
              "      <td>0</td>\n",
              "      <td>Nah I don't think he goes to usf, he lives aro...</td>\n",
              "      <td>61</td>\n",
              "    </tr>\n",
              "  </tbody>\n",
              "</table>\n",
              "</div>"
            ],
            "text/plain": [
              "   target                                           messages  total_characters\n",
              "0       0  Go until jurong point, crazy.. Available only ...               111\n",
              "1       0                      Ok lar... Joking wif u oni...                29\n",
              "2       1  Free entry in 2 a wkly comp to win FA Cup fina...               155\n",
              "3       0  U dun say so early hor... U c already then say...                49\n",
              "4       0  Nah I don't think he goes to usf, he lives aro...                61"
            ]
          },
          "metadata": {},
          "execution_count": 233
        }
      ]
    },
    {
      "cell_type": "code",
      "metadata": {
        "id": "Wlr1YGjGZ46V"
      },
      "source": [
        "data['total_words']=data['messages'].apply(lambda x: len(nltk.word_tokenize(x)))"
      ],
      "execution_count": 234,
      "outputs": []
    },
    {
      "cell_type": "code",
      "metadata": {
        "colab": {
          "base_uri": "https://localhost:8080/",
          "height": 204
        },
        "id": "ALE4vxXLcXE_",
        "outputId": "59c9dc50-a704-4b43-f077-de0b71c9163b"
      },
      "source": [
        "data.head()"
      ],
      "execution_count": 235,
      "outputs": [
        {
          "output_type": "execute_result",
          "data": {
            "text/html": [
              "<div>\n",
              "<style scoped>\n",
              "    .dataframe tbody tr th:only-of-type {\n",
              "        vertical-align: middle;\n",
              "    }\n",
              "\n",
              "    .dataframe tbody tr th {\n",
              "        vertical-align: top;\n",
              "    }\n",
              "\n",
              "    .dataframe thead th {\n",
              "        text-align: right;\n",
              "    }\n",
              "</style>\n",
              "<table border=\"1\" class=\"dataframe\">\n",
              "  <thead>\n",
              "    <tr style=\"text-align: right;\">\n",
              "      <th></th>\n",
              "      <th>target</th>\n",
              "      <th>messages</th>\n",
              "      <th>total_characters</th>\n",
              "      <th>total_words</th>\n",
              "    </tr>\n",
              "  </thead>\n",
              "  <tbody>\n",
              "    <tr>\n",
              "      <th>0</th>\n",
              "      <td>0</td>\n",
              "      <td>Go until jurong point, crazy.. Available only ...</td>\n",
              "      <td>111</td>\n",
              "      <td>23</td>\n",
              "    </tr>\n",
              "    <tr>\n",
              "      <th>1</th>\n",
              "      <td>0</td>\n",
              "      <td>Ok lar... Joking wif u oni...</td>\n",
              "      <td>29</td>\n",
              "      <td>8</td>\n",
              "    </tr>\n",
              "    <tr>\n",
              "      <th>2</th>\n",
              "      <td>1</td>\n",
              "      <td>Free entry in 2 a wkly comp to win FA Cup fina...</td>\n",
              "      <td>155</td>\n",
              "      <td>37</td>\n",
              "    </tr>\n",
              "    <tr>\n",
              "      <th>3</th>\n",
              "      <td>0</td>\n",
              "      <td>U dun say so early hor... U c already then say...</td>\n",
              "      <td>49</td>\n",
              "      <td>13</td>\n",
              "    </tr>\n",
              "    <tr>\n",
              "      <th>4</th>\n",
              "      <td>0</td>\n",
              "      <td>Nah I don't think he goes to usf, he lives aro...</td>\n",
              "      <td>61</td>\n",
              "      <td>15</td>\n",
              "    </tr>\n",
              "  </tbody>\n",
              "</table>\n",
              "</div>"
            ],
            "text/plain": [
              "   target  ... total_words\n",
              "0       0  ...          23\n",
              "1       0  ...           8\n",
              "2       1  ...          37\n",
              "3       0  ...          13\n",
              "4       0  ...          15\n",
              "\n",
              "[5 rows x 4 columns]"
            ]
          },
          "metadata": {},
          "execution_count": 235
        }
      ]
    },
    {
      "cell_type": "code",
      "metadata": {
        "id": "SWAmsASkc54h"
      },
      "source": [
        "data['total_sentences']=data['messages'].apply(lambda x: len(nltk.sent_tokenize(x)))"
      ],
      "execution_count": 236,
      "outputs": []
    },
    {
      "cell_type": "code",
      "metadata": {
        "colab": {
          "base_uri": "https://localhost:8080/",
          "height": 204
        },
        "id": "w91PbLp_da_r",
        "outputId": "659d95cd-678f-4ee5-c225-c33585547453"
      },
      "source": [
        "data.head()"
      ],
      "execution_count": 237,
      "outputs": [
        {
          "output_type": "execute_result",
          "data": {
            "text/html": [
              "<div>\n",
              "<style scoped>\n",
              "    .dataframe tbody tr th:only-of-type {\n",
              "        vertical-align: middle;\n",
              "    }\n",
              "\n",
              "    .dataframe tbody tr th {\n",
              "        vertical-align: top;\n",
              "    }\n",
              "\n",
              "    .dataframe thead th {\n",
              "        text-align: right;\n",
              "    }\n",
              "</style>\n",
              "<table border=\"1\" class=\"dataframe\">\n",
              "  <thead>\n",
              "    <tr style=\"text-align: right;\">\n",
              "      <th></th>\n",
              "      <th>target</th>\n",
              "      <th>messages</th>\n",
              "      <th>total_characters</th>\n",
              "      <th>total_words</th>\n",
              "      <th>total_sentences</th>\n",
              "    </tr>\n",
              "  </thead>\n",
              "  <tbody>\n",
              "    <tr>\n",
              "      <th>0</th>\n",
              "      <td>0</td>\n",
              "      <td>Go until jurong point, crazy.. Available only ...</td>\n",
              "      <td>111</td>\n",
              "      <td>23</td>\n",
              "      <td>2</td>\n",
              "    </tr>\n",
              "    <tr>\n",
              "      <th>1</th>\n",
              "      <td>0</td>\n",
              "      <td>Ok lar... Joking wif u oni...</td>\n",
              "      <td>29</td>\n",
              "      <td>8</td>\n",
              "      <td>2</td>\n",
              "    </tr>\n",
              "    <tr>\n",
              "      <th>2</th>\n",
              "      <td>1</td>\n",
              "      <td>Free entry in 2 a wkly comp to win FA Cup fina...</td>\n",
              "      <td>155</td>\n",
              "      <td>37</td>\n",
              "      <td>2</td>\n",
              "    </tr>\n",
              "    <tr>\n",
              "      <th>3</th>\n",
              "      <td>0</td>\n",
              "      <td>U dun say so early hor... U c already then say...</td>\n",
              "      <td>49</td>\n",
              "      <td>13</td>\n",
              "      <td>1</td>\n",
              "    </tr>\n",
              "    <tr>\n",
              "      <th>4</th>\n",
              "      <td>0</td>\n",
              "      <td>Nah I don't think he goes to usf, he lives aro...</td>\n",
              "      <td>61</td>\n",
              "      <td>15</td>\n",
              "      <td>1</td>\n",
              "    </tr>\n",
              "  </tbody>\n",
              "</table>\n",
              "</div>"
            ],
            "text/plain": [
              "   target  ... total_sentences\n",
              "0       0  ...               2\n",
              "1       0  ...               2\n",
              "2       1  ...               2\n",
              "3       0  ...               1\n",
              "4       0  ...               1\n",
              "\n",
              "[5 rows x 5 columns]"
            ]
          },
          "metadata": {},
          "execution_count": 237
        }
      ]
    },
    {
      "cell_type": "code",
      "metadata": {
        "colab": {
          "base_uri": "https://localhost:8080/",
          "height": 297
        },
        "id": "MEB3fQStdls5",
        "outputId": "63be53ff-1299-4632-9782-ff56a8adbb2d"
      },
      "source": [
        "data[['total_characters','total_words','total_sentences']].describe()"
      ],
      "execution_count": 238,
      "outputs": [
        {
          "output_type": "execute_result",
          "data": {
            "text/html": [
              "<div>\n",
              "<style scoped>\n",
              "    .dataframe tbody tr th:only-of-type {\n",
              "        vertical-align: middle;\n",
              "    }\n",
              "\n",
              "    .dataframe tbody tr th {\n",
              "        vertical-align: top;\n",
              "    }\n",
              "\n",
              "    .dataframe thead th {\n",
              "        text-align: right;\n",
              "    }\n",
              "</style>\n",
              "<table border=\"1\" class=\"dataframe\">\n",
              "  <thead>\n",
              "    <tr style=\"text-align: right;\">\n",
              "      <th></th>\n",
              "      <th>total_characters</th>\n",
              "      <th>total_words</th>\n",
              "      <th>total_sentences</th>\n",
              "    </tr>\n",
              "  </thead>\n",
              "  <tbody>\n",
              "    <tr>\n",
              "      <th>count</th>\n",
              "      <td>5169.000000</td>\n",
              "      <td>5169.000000</td>\n",
              "      <td>5169.000000</td>\n",
              "    </tr>\n",
              "    <tr>\n",
              "      <th>mean</th>\n",
              "      <td>78.977945</td>\n",
              "      <td>18.286129</td>\n",
              "      <td>1.961308</td>\n",
              "    </tr>\n",
              "    <tr>\n",
              "      <th>std</th>\n",
              "      <td>58.236293</td>\n",
              "      <td>13.226400</td>\n",
              "      <td>1.432583</td>\n",
              "    </tr>\n",
              "    <tr>\n",
              "      <th>min</th>\n",
              "      <td>2.000000</td>\n",
              "      <td>1.000000</td>\n",
              "      <td>1.000000</td>\n",
              "    </tr>\n",
              "    <tr>\n",
              "      <th>25%</th>\n",
              "      <td>36.000000</td>\n",
              "      <td>9.000000</td>\n",
              "      <td>1.000000</td>\n",
              "    </tr>\n",
              "    <tr>\n",
              "      <th>50%</th>\n",
              "      <td>60.000000</td>\n",
              "      <td>15.000000</td>\n",
              "      <td>1.000000</td>\n",
              "    </tr>\n",
              "    <tr>\n",
              "      <th>75%</th>\n",
              "      <td>117.000000</td>\n",
              "      <td>26.000000</td>\n",
              "      <td>2.000000</td>\n",
              "    </tr>\n",
              "    <tr>\n",
              "      <th>max</th>\n",
              "      <td>910.000000</td>\n",
              "      <td>219.000000</td>\n",
              "      <td>38.000000</td>\n",
              "    </tr>\n",
              "  </tbody>\n",
              "</table>\n",
              "</div>"
            ],
            "text/plain": [
              "       total_characters  total_words  total_sentences\n",
              "count       5169.000000  5169.000000      5169.000000\n",
              "mean          78.977945    18.286129         1.961308\n",
              "std           58.236293    13.226400         1.432583\n",
              "min            2.000000     1.000000         1.000000\n",
              "25%           36.000000     9.000000         1.000000\n",
              "50%           60.000000    15.000000         1.000000\n",
              "75%          117.000000    26.000000         2.000000\n",
              "max          910.000000   219.000000        38.000000"
            ]
          },
          "metadata": {},
          "execution_count": 238
        }
      ]
    },
    {
      "cell_type": "code",
      "metadata": {
        "colab": {
          "base_uri": "https://localhost:8080/",
          "height": 297
        },
        "id": "iXCrSP3xdcaD",
        "outputId": "6200d155-3c53-4989-9598-81804df86e93"
      },
      "source": [
        "data[data['target']==1][['total_characters','total_words','total_sentences']].describe()"
      ],
      "execution_count": 239,
      "outputs": [
        {
          "output_type": "execute_result",
          "data": {
            "text/html": [
              "<div>\n",
              "<style scoped>\n",
              "    .dataframe tbody tr th:only-of-type {\n",
              "        vertical-align: middle;\n",
              "    }\n",
              "\n",
              "    .dataframe tbody tr th {\n",
              "        vertical-align: top;\n",
              "    }\n",
              "\n",
              "    .dataframe thead th {\n",
              "        text-align: right;\n",
              "    }\n",
              "</style>\n",
              "<table border=\"1\" class=\"dataframe\">\n",
              "  <thead>\n",
              "    <tr style=\"text-align: right;\">\n",
              "      <th></th>\n",
              "      <th>total_characters</th>\n",
              "      <th>total_words</th>\n",
              "      <th>total_sentences</th>\n",
              "    </tr>\n",
              "  </thead>\n",
              "  <tbody>\n",
              "    <tr>\n",
              "      <th>count</th>\n",
              "      <td>653.000000</td>\n",
              "      <td>653.000000</td>\n",
              "      <td>653.000000</td>\n",
              "    </tr>\n",
              "    <tr>\n",
              "      <th>mean</th>\n",
              "      <td>137.891271</td>\n",
              "      <td>27.474732</td>\n",
              "      <td>2.969372</td>\n",
              "    </tr>\n",
              "    <tr>\n",
              "      <th>std</th>\n",
              "      <td>30.137753</td>\n",
              "      <td>6.893007</td>\n",
              "      <td>1.488910</td>\n",
              "    </tr>\n",
              "    <tr>\n",
              "      <th>min</th>\n",
              "      <td>13.000000</td>\n",
              "      <td>2.000000</td>\n",
              "      <td>1.000000</td>\n",
              "    </tr>\n",
              "    <tr>\n",
              "      <th>25%</th>\n",
              "      <td>132.000000</td>\n",
              "      <td>25.000000</td>\n",
              "      <td>2.000000</td>\n",
              "    </tr>\n",
              "    <tr>\n",
              "      <th>50%</th>\n",
              "      <td>149.000000</td>\n",
              "      <td>29.000000</td>\n",
              "      <td>3.000000</td>\n",
              "    </tr>\n",
              "    <tr>\n",
              "      <th>75%</th>\n",
              "      <td>157.000000</td>\n",
              "      <td>32.000000</td>\n",
              "      <td>4.000000</td>\n",
              "    </tr>\n",
              "    <tr>\n",
              "      <th>max</th>\n",
              "      <td>224.000000</td>\n",
              "      <td>44.000000</td>\n",
              "      <td>9.000000</td>\n",
              "    </tr>\n",
              "  </tbody>\n",
              "</table>\n",
              "</div>"
            ],
            "text/plain": [
              "       total_characters  total_words  total_sentences\n",
              "count        653.000000   653.000000       653.000000\n",
              "mean         137.891271    27.474732         2.969372\n",
              "std           30.137753     6.893007         1.488910\n",
              "min           13.000000     2.000000         1.000000\n",
              "25%          132.000000    25.000000         2.000000\n",
              "50%          149.000000    29.000000         3.000000\n",
              "75%          157.000000    32.000000         4.000000\n",
              "max          224.000000    44.000000         9.000000"
            ]
          },
          "metadata": {},
          "execution_count": 239
        }
      ]
    },
    {
      "cell_type": "code",
      "metadata": {
        "colab": {
          "base_uri": "https://localhost:8080/",
          "height": 297
        },
        "id": "Yg7f2fZBhkbf",
        "outputId": "68049bd8-b602-4d77-d6a7-e73d37a14e9c"
      },
      "source": [
        "data[data['target']==0][['total_characters','total_words','total_sentences']].describe()"
      ],
      "execution_count": 240,
      "outputs": [
        {
          "output_type": "execute_result",
          "data": {
            "text/html": [
              "<div>\n",
              "<style scoped>\n",
              "    .dataframe tbody tr th:only-of-type {\n",
              "        vertical-align: middle;\n",
              "    }\n",
              "\n",
              "    .dataframe tbody tr th {\n",
              "        vertical-align: top;\n",
              "    }\n",
              "\n",
              "    .dataframe thead th {\n",
              "        text-align: right;\n",
              "    }\n",
              "</style>\n",
              "<table border=\"1\" class=\"dataframe\">\n",
              "  <thead>\n",
              "    <tr style=\"text-align: right;\">\n",
              "      <th></th>\n",
              "      <th>total_characters</th>\n",
              "      <th>total_words</th>\n",
              "      <th>total_sentences</th>\n",
              "    </tr>\n",
              "  </thead>\n",
              "  <tbody>\n",
              "    <tr>\n",
              "      <th>count</th>\n",
              "      <td>4516.000000</td>\n",
              "      <td>4516.000000</td>\n",
              "      <td>4516.000000</td>\n",
              "    </tr>\n",
              "    <tr>\n",
              "      <th>mean</th>\n",
              "      <td>70.459256</td>\n",
              "      <td>16.957484</td>\n",
              "      <td>1.815545</td>\n",
              "    </tr>\n",
              "    <tr>\n",
              "      <th>std</th>\n",
              "      <td>56.358207</td>\n",
              "      <td>13.394052</td>\n",
              "      <td>1.364098</td>\n",
              "    </tr>\n",
              "    <tr>\n",
              "      <th>min</th>\n",
              "      <td>2.000000</td>\n",
              "      <td>1.000000</td>\n",
              "      <td>1.000000</td>\n",
              "    </tr>\n",
              "    <tr>\n",
              "      <th>25%</th>\n",
              "      <td>34.000000</td>\n",
              "      <td>8.000000</td>\n",
              "      <td>1.000000</td>\n",
              "    </tr>\n",
              "    <tr>\n",
              "      <th>50%</th>\n",
              "      <td>52.000000</td>\n",
              "      <td>13.000000</td>\n",
              "      <td>1.000000</td>\n",
              "    </tr>\n",
              "    <tr>\n",
              "      <th>75%</th>\n",
              "      <td>90.000000</td>\n",
              "      <td>22.000000</td>\n",
              "      <td>2.000000</td>\n",
              "    </tr>\n",
              "    <tr>\n",
              "      <th>max</th>\n",
              "      <td>910.000000</td>\n",
              "      <td>219.000000</td>\n",
              "      <td>38.000000</td>\n",
              "    </tr>\n",
              "  </tbody>\n",
              "</table>\n",
              "</div>"
            ],
            "text/plain": [
              "       total_characters  total_words  total_sentences\n",
              "count       4516.000000  4516.000000      4516.000000\n",
              "mean          70.459256    16.957484         1.815545\n",
              "std           56.358207    13.394052         1.364098\n",
              "min            2.000000     1.000000         1.000000\n",
              "25%           34.000000     8.000000         1.000000\n",
              "50%           52.000000    13.000000         1.000000\n",
              "75%           90.000000    22.000000         2.000000\n",
              "max          910.000000   219.000000        38.000000"
            ]
          },
          "metadata": {},
          "execution_count": 240
        }
      ]
    },
    {
      "cell_type": "code",
      "metadata": {
        "id": "EdZKpiMMiDeo"
      },
      "source": [
        "import seaborn as sns"
      ],
      "execution_count": 241,
      "outputs": []
    },
    {
      "cell_type": "code",
      "metadata": {
        "colab": {
          "base_uri": "https://localhost:8080/",
          "height": 513
        },
        "id": "hzIHfpGCmmUB",
        "outputId": "f42879a3-cc42-4b06-c46f-a4cf48b470cf"
      },
      "source": [
        "plt.figure(figsize=(16,8))\n",
        "plt.xlabel('Total number of characters')\n",
        "plt.ylabel('Number of messages')\n",
        "plt.title('Histogram of total_characters of spam and ham messages')\n",
        "sns.histplot(data[data['target']==0]['total_characters'])\n",
        "sns.histplot(data[data['target']==1]['total_characters'],color='red')\n",
        "plt.show()"
      ],
      "execution_count": 242,
      "outputs": [
        {
          "output_type": "display_data",
          "data": {
            "image/png": "[encoded data removed]",
            "text/plain": [
              "<Figure size 1152x576 with 1 Axes>"
            ]
          },
          "metadata": {
            "needs_background": "light"
          }
        }
      ]
    },
    {
      "cell_type": "code",
      "metadata": {
        "colab": {
          "base_uri": "https://localhost:8080/",
          "height": 513
        },
        "id": "VMmnwlSVm46_",
        "outputId": "bc5b8555-7a71-4db1-8137-a6de8ff966b4"
      },
      "source": [
        "plt.figure(figsize=(16,8))\n",
        "plt.xlabel('Total number of words')\n",
        "plt.ylabel('Number of messages')\n",
        "plt.title('Histogram of total_words of spam and ham messages')\n",
        "sns.histplot(data[data['target']==0]['total_words'])\n",
        "sns.histplot(data[data['target']==1]['total_words'],color='red')\n",
        "plt.show()"
      ],
      "execution_count": 243,
      "outputs": [
        {
          "output_type": "display_data",
          "data": {
            "image/png": "[encoded data removed]",
            "text/plain": [
              "<Figure size 1152x576 with 1 Axes>"
            ]
          },
          "metadata": {
            "needs_background": "light"
          }
        }
      ]
    },
    {
      "cell_type": "code",
      "metadata": {
        "colab": {
          "base_uri": "https://localhost:8080/",
          "height": 513
        },
        "id": "zXN6GxP6obHA",
        "outputId": "c04ced29-1673-4ae9-9bb9-c9e969507157"
      },
      "source": [
        "plt.figure(figsize=(16,8))\n",
        "plt.xlabel('Total number of sentences')\n",
        "plt.ylabel('Number of messages')\n",
        "plt.title('Histogram of total_sentences of spam and ham messages')\n",
        "sns.histplot(data[data['target']==0]['total_sentences'])\n",
        "sns.histplot(data[data['target']==1]['total_sentences'],color='red')\n",
        "plt.show()"
      ],
      "execution_count": 244,
      "outputs": [
        {
          "output_type": "display_data",
          "data": {
            "image/png": "[encoded data removed]",
            "text/plain": [
              "<Figure size 1152x576 with 1 Axes>"
            ]
          },
          "metadata": {
            "needs_background": "light"
          }
        }
      ]
    },
    {
      "cell_type": "code",
      "metadata": {
        "colab": {
          "base_uri": "https://localhost:8080/",
          "height": 567
        },
        "id": "ZY06X3DhordE",
        "outputId": "7b754c07-f497-461c-b124-488250f84e31"
      },
      "source": [
        "sns.pairplot(data,hue='target')"
      ],
      "execution_count": 245,
      "outputs": [
        {
          "output_type": "execute_result",
          "data": {
            "text/plain": [
              "<seaborn.axisgrid.PairGrid at 0x7f84813d22d0>"
            ]
          },
          "metadata": {},
          "execution_count": 245
        },
        {
          "output_type": "display_data",
          "data": {
            "image/png": "[encoded data removed]",
            "text/plain": [
              "<Figure size 582.375x540 with 12 Axes>"
            ]
          },
          "metadata": {
            "needs_background": "light"
          }
        }
      ]
    },
    {
      "cell_type": "code",
      "metadata": {
        "colab": {
          "base_uri": "https://localhost:8080/",
          "height": 357
        },
        "id": "XYM5h7YtsgJC",
        "outputId": "71207bf8-c19b-43db-8ca6-af88c6de201e"
      },
      "source": [
        "sns.heatmap(data.corr(),annot=True)"
      ],
      "execution_count": 246,
      "outputs": [
        {
          "output_type": "execute_result",
          "data": {
            "text/plain": [
              "<matplotlib.axes._subplots.AxesSubplot at 0x7f848159ba90>"
            ]
          },
          "metadata": {},
          "execution_count": 246
        },
        {
          "output_type": "display_data",
          "data": {
            "image/png": "[encoded data removed]",
            "text/plain": [
              "<Figure size 432x288 with 2 Axes>"
            ]
          },
          "metadata": {
            "needs_background": "light"
          }
        }
      ]
    },
    {
      "cell_type": "markdown",
      "metadata": {
        "id": "40Cw0ql4TXWC"
      },
      "source": [
        "# **Phase 3. Data Processing**"
      ]
    },
    {
      "cell_type": "code",
      "metadata": {
        "colab": {
          "base_uri": "https://localhost:8080/",
          "height": 204
        },
        "id": "DCj2QhxKS9HE",
        "outputId": "048f9860-a8df-45e4-dcc9-1d1c5de1dd90"
      },
      "source": [
        "data.head()"
      ],
      "execution_count": 247,
      "outputs": [
        {
          "output_type": "execute_result",
          "data": {
            "text/html": [
              "<div>\n",
              "<style scoped>\n",
              "    .dataframe tbody tr th:only-of-type {\n",
              "        vertical-align: middle;\n",
              "    }\n",
              "\n",
              "    .dataframe tbody tr th {\n",
              "        vertical-align: top;\n",
              "    }\n",
              "\n",
              "    .dataframe thead th {\n",
              "        text-align: right;\n",
              "    }\n",
              "</style>\n",
              "<table border=\"1\" class=\"dataframe\">\n",
              "  <thead>\n",
              "    <tr style=\"text-align: right;\">\n",
              "      <th></th>\n",
              "      <th>target</th>\n",
              "      <th>messages</th>\n",
              "      <th>total_characters</th>\n",
              "      <th>total_words</th>\n",
              "      <th>total_sentences</th>\n",
              "    </tr>\n",
              "  </thead>\n",
              "  <tbody>\n",
              "    <tr>\n",
              "      <th>0</th>\n",
              "      <td>0</td>\n",
              "      <td>Go until jurong point, crazy.. Available only ...</td>\n",
              "      <td>111</td>\n",
              "      <td>23</td>\n",
              "      <td>2</td>\n",
              "    </tr>\n",
              "    <tr>\n",
              "      <th>1</th>\n",
              "      <td>0</td>\n",
              "      <td>Ok lar... Joking wif u oni...</td>\n",
              "      <td>29</td>\n",
              "      <td>8</td>\n",
              "      <td>2</td>\n",
              "    </tr>\n",
              "    <tr>\n",
              "      <th>2</th>\n",
              "      <td>1</td>\n",
              "      <td>Free entry in 2 a wkly comp to win FA Cup fina...</td>\n",
              "      <td>155</td>\n",
              "      <td>37</td>\n",
              "      <td>2</td>\n",
              "    </tr>\n",
              "    <tr>\n",
              "      <th>3</th>\n",
              "      <td>0</td>\n",
              "      <td>U dun say so early hor... U c already then say...</td>\n",
              "      <td>49</td>\n",
              "      <td>13</td>\n",
              "      <td>1</td>\n",
              "    </tr>\n",
              "    <tr>\n",
              "      <th>4</th>\n",
              "      <td>0</td>\n",
              "      <td>Nah I don't think he goes to usf, he lives aro...</td>\n",
              "      <td>61</td>\n",
              "      <td>15</td>\n",
              "      <td>1</td>\n",
              "    </tr>\n",
              "  </tbody>\n",
              "</table>\n",
              "</div>"
            ],
            "text/plain": [
              "   target  ... total_sentences\n",
              "0       0  ...               2\n",
              "1       0  ...               2\n",
              "2       1  ...               2\n",
              "3       0  ...               1\n",
              "4       0  ...               1\n",
              "\n",
              "[5 rows x 5 columns]"
            ]
          },
          "metadata": {},
          "execution_count": 247
        }
      ]
    },
    {
      "cell_type": "markdown",
      "metadata": {
        "id": "_iEqwiOKTnCY"
      },
      "source": [
        "Five things need to be done.\n",
        "* lower case\n",
        "* tockenization\n",
        "* Removing Special characters\n",
        "* Removing stop words and punctuation\n",
        "* stemming\n"
      ]
    },
    {
      "cell_type": "code",
      "metadata": {
        "colab": {
          "base_uri": "https://localhost:8080/"
        },
        "id": "ZAlTqLvULoFv",
        "outputId": "91dd5c52-495b-4116-def9-4d6404e7d756"
      },
      "source": [
        "import nltk\n",
        "nltk.download('stopwords')"
      ],
      "execution_count": 248,
      "outputs": [
        {
          "output_type": "stream",
          "name": "stdout",
          "text": [
            "[nltk_data] Downloading package stopwords to /root/nltk_data...\n",
            "[nltk_data]   Package stopwords is already up-to-date!\n"
          ]
        },
        {
          "output_type": "execute_result",
          "data": {
            "text/plain": [
              "True"
            ]
          },
          "metadata": {},
          "execution_count": 248
        }
      ]
    },
    {
      "cell_type": "code",
      "metadata": {
        "colab": {
          "base_uri": "https://localhost:8080/",
          "height": 35
        },
        "id": "UgQFgbkhTujT",
        "outputId": "f7a260ca-6c29-43aa-cb8f-46cf7d4a37a5"
      },
      "source": [
        "import string\n",
        "string.punctuation"
      ],
      "execution_count": 249,
      "outputs": [
        {
          "output_type": "execute_result",
          "data": {
            "application/vnd.google.colaboratory.intrinsic+json": {
              "type": "string"
            },
            "text/plain": [
              "'!\"#$%&\\'()*+,-./:;<=>?@[\\\\]^_`{|}~'"
            ]
          },
          "metadata": {},
          "execution_count": 249
        }
      ]
    },
    {
      "cell_type": "code",
      "metadata": {
        "id": "I29k5ijdT2Y_"
      },
      "source": [
        "from nltk.stem.porter import PorterStemmer\n",
        "ps=PorterStemmer()"
      ],
      "execution_count": 250,
      "outputs": []
    },
    {
      "cell_type": "code",
      "metadata": {
        "id": "xW15gtdvTiEj"
      },
      "source": [
        "def transform_text(text):\n",
        "  text=text.lower()\n",
        "  text=nltk.word_tokenize(text)\n",
        "  y=[]\n",
        "  for i in text:\n",
        "    if i.isalnum():\n",
        "      y.append(i)\n",
        "  text=y[:]\n",
        "  y.clear()\n",
        "  for i in text:\n",
        "    if i not in stopwords.words('english') and i not in string.punctuation:\n",
        "      y.append(i)\n",
        "  text=y[:]\n",
        "  y.clear()\n",
        "  for i in text:\n",
        "    y.append(ps.stem(i))\n",
        "  return \" \".join(y)\n"
      ],
      "execution_count": 251,
      "outputs": []
    },
    {
      "cell_type": "code",
      "metadata": {
        "colab": {
          "base_uri": "https://localhost:8080/",
          "height": 35
        },
        "id": "4sIsu-CNEZJq",
        "outputId": "3f782102-05bf-4b0c-efba-46f63c33d72b"
      },
      "source": [
        "transform_text(\"I'm gonna be home soon and i don't want to talk about this stuff anymore tonight, k? I've cried enough today.\")"
      ],
      "execution_count": 252,
      "outputs": [
        {
          "output_type": "execute_result",
          "data": {
            "application/vnd.google.colaboratory.intrinsic+json": {
              "type": "string"
            },
            "text/plain": [
              "'gon na home soon want talk stuff anymor tonight k cri enough today'"
            ]
          },
          "metadata": {},
          "execution_count": 252
        }
      ]
    },
    {
      "cell_type": "code",
      "metadata": {
        "id": "0WpdXM9yJ_sb"
      },
      "source": [
        "data['transformed_messages']=data['messages'].apply(lambda x: transform_text(x))"
      ],
      "execution_count": 253,
      "outputs": []
    },
    {
      "cell_type": "code",
      "metadata": {
        "colab": {
          "base_uri": "https://localhost:8080/",
          "height": 204
        },
        "id": "vc-yvbF-OGTH",
        "outputId": "00024f30-3bf2-4fbd-cee1-d94879bffe54"
      },
      "source": [
        "data.head()"
      ],
      "execution_count": 254,
      "outputs": [
        {
          "output_type": "execute_result",
          "data": {
            "text/html": [
              "<div>\n",
              "<style scoped>\n",
              "    .dataframe tbody tr th:only-of-type {\n",
              "        vertical-align: middle;\n",
              "    }\n",
              "\n",
              "    .dataframe tbody tr th {\n",
              "        vertical-align: top;\n",
              "    }\n",
              "\n",
              "    .dataframe thead th {\n",
              "        text-align: right;\n",
              "    }\n",
              "</style>\n",
              "<table border=\"1\" class=\"dataframe\">\n",
              "  <thead>\n",
              "    <tr style=\"text-align: right;\">\n",
              "      <th></th>\n",
              "      <th>target</th>\n",
              "      <th>messages</th>\n",
              "      <th>total_characters</th>\n",
              "      <th>total_words</th>\n",
              "      <th>total_sentences</th>\n",
              "      <th>transformed_messages</th>\n",
              "    </tr>\n",
              "  </thead>\n",
              "  <tbody>\n",
              "    <tr>\n",
              "      <th>0</th>\n",
              "      <td>0</td>\n",
              "      <td>Go until jurong point, crazy.. Available only ...</td>\n",
              "      <td>111</td>\n",
              "      <td>23</td>\n",
              "      <td>2</td>\n",
              "      <td>go jurong point avail bugi n great world la e ...</td>\n",
              "    </tr>\n",
              "    <tr>\n",
              "      <th>1</th>\n",
              "      <td>0</td>\n",
              "      <td>Ok lar... Joking wif u oni...</td>\n",
              "      <td>29</td>\n",
              "      <td>8</td>\n",
              "      <td>2</td>\n",
              "      <td>ok lar joke wif u oni</td>\n",
              "    </tr>\n",
              "    <tr>\n",
              "      <th>2</th>\n",
              "      <td>1</td>\n",
              "      <td>Free entry in 2 a wkly comp to win FA Cup fina...</td>\n",
              "      <td>155</td>\n",
              "      <td>37</td>\n",
              "      <td>2</td>\n",
              "      <td>free entri 2 wkli comp win fa cup final tkt 21...</td>\n",
              "    </tr>\n",
              "    <tr>\n",
              "      <th>3</th>\n",
              "      <td>0</td>\n",
              "      <td>U dun say so early hor... U c already then say...</td>\n",
              "      <td>49</td>\n",
              "      <td>13</td>\n",
              "      <td>1</td>\n",
              "      <td>u dun say earli hor u c alreadi say</td>\n",
              "    </tr>\n",
              "    <tr>\n",
              "      <th>4</th>\n",
              "      <td>0</td>\n",
              "      <td>Nah I don't think he goes to usf, he lives aro...</td>\n",
              "      <td>61</td>\n",
              "      <td>15</td>\n",
              "      <td>1</td>\n",
              "      <td>nah think goe usf live around though</td>\n",
              "    </tr>\n",
              "  </tbody>\n",
              "</table>\n",
              "</div>"
            ],
            "text/plain": [
              "   target  ...                               transformed_messages\n",
              "0       0  ...  go jurong point avail bugi n great world la e ...\n",
              "1       0  ...                              ok lar joke wif u oni\n",
              "2       1  ...  free entri 2 wkli comp win fa cup final tkt 21...\n",
              "3       0  ...                u dun say earli hor u c alreadi say\n",
              "4       0  ...               nah think goe usf live around though\n",
              "\n",
              "[5 rows x 6 columns]"
            ]
          },
          "metadata": {},
          "execution_count": 254
        }
      ]
    },
    {
      "cell_type": "code",
      "metadata": {
        "id": "eOFhaXYHUhvd"
      },
      "source": [
        "from wordcloud import WordCloud"
      ],
      "execution_count": 255,
      "outputs": []
    },
    {
      "cell_type": "code",
      "metadata": {
        "id": "C-py916WVetc"
      },
      "source": [
        "wc=WordCloud(width=500,height=500,min_font_size=10,background_color='black')"
      ],
      "execution_count": 256,
      "outputs": []
    },
    {
      "cell_type": "code",
      "metadata": {
        "id": "REYiogYUVjnT"
      },
      "source": [
        "spam_wc=wc.generate(data[data['target']==1]['transformed_messages'].str.cat(sep=\" \"))"
      ],
      "execution_count": 257,
      "outputs": []
    },
    {
      "cell_type": "code",
      "metadata": {
        "colab": {
          "base_uri": "https://localhost:8080/",
          "height": 395
        },
        "id": "7mvEVLZCWOyf",
        "outputId": "0e0e465a-ff8c-4f1a-9bd8-e7552491de00"
      },
      "source": [
        "plt.figure(figsize=(15,6))\n",
        "plt.imshow(spam_wc)"
      ],
      "execution_count": 258,
      "outputs": [
        {
          "output_type": "execute_result",
          "data": {
            "text/plain": [
              "<matplotlib.image.AxesImage at 0x7f848147aa50>"
            ]
          },
          "metadata": {},
          "execution_count": 258
        },
        {
          "output_type": "display_data",
          "data": {
            "image/png": "[encoded data removed]",
            "text/plain": [
              "<Figure size 1080x432 with 1 Axes>"
            ]
          },
          "metadata": {
            "needs_background": "light"
          }
        }
      ]
    },
    {
      "cell_type": "code",
      "metadata": {
        "colab": {
          "base_uri": "https://localhost:8080/",
          "height": 395
        },
        "id": "k0jp979UWX0V",
        "outputId": "7fbbf49c-37fe-4fb7-a256-9764df041f10"
      },
      "source": [
        "ham_wc=wc.generate(data[data['target']==0]['transformed_messages'].str.cat(sep=\" \"))\n",
        "plt.figure(figsize=(15,6))\n",
        "plt.imshow(ham_wc)"
      ],
      "execution_count": 259,
      "outputs": [
        {
          "output_type": "execute_result",
          "data": {
            "text/plain": [
              "<matplotlib.image.AxesImage at 0x7f848189bfd0>"
            ]
          },
          "metadata": {},
          "execution_count": 259
        },
        {
          "output_type": "display_data",
          "data": {
            "image/png": "[encoded data removed]",
            "text/plain": [
              "<Figure size 1080x432 with 1 Axes>"
            ]
          },
          "metadata": {
            "needs_background": "light"
          }
        }
      ]
    },
    {
      "cell_type": "code",
      "metadata": {
        "colab": {
          "base_uri": "https://localhost:8080/",
          "height": 204
        },
        "id": "9U3Ha0--XMWa",
        "outputId": "9814be66-670a-4caf-8769-1f19ea0e88aa"
      },
      "source": [
        "data.head()"
      ],
      "execution_count": 260,
      "outputs": [
        {
          "output_type": "execute_result",
          "data": {
            "text/html": [
              "<div>\n",
              "<style scoped>\n",
              "    .dataframe tbody tr th:only-of-type {\n",
              "        vertical-align: middle;\n",
              "    }\n",
              "\n",
              "    .dataframe tbody tr th {\n",
              "        vertical-align: top;\n",
              "    }\n",
              "\n",
              "    .dataframe thead th {\n",
              "        text-align: right;\n",
              "    }\n",
              "</style>\n",
              "<table border=\"1\" class=\"dataframe\">\n",
              "  <thead>\n",
              "    <tr style=\"text-align: right;\">\n",
              "      <th></th>\n",
              "      <th>target</th>\n",
              "      <th>messages</th>\n",
              "      <th>total_characters</th>\n",
              "      <th>total_words</th>\n",
              "      <th>total_sentences</th>\n",
              "      <th>transformed_messages</th>\n",
              "    </tr>\n",
              "  </thead>\n",
              "  <tbody>\n",
              "    <tr>\n",
              "      <th>0</th>\n",
              "      <td>0</td>\n",
              "      <td>Go until jurong point, crazy.. Available only ...</td>\n",
              "      <td>111</td>\n",
              "      <td>23</td>\n",
              "      <td>2</td>\n",
              "      <td>go jurong point avail bugi n great world la e ...</td>\n",
              "    </tr>\n",
              "    <tr>\n",
              "      <th>1</th>\n",
              "      <td>0</td>\n",
              "      <td>Ok lar... Joking wif u oni...</td>\n",
              "      <td>29</td>\n",
              "      <td>8</td>\n",
              "      <td>2</td>\n",
              "      <td>ok lar joke wif u oni</td>\n",
              "    </tr>\n",
              "    <tr>\n",
              "      <th>2</th>\n",
              "      <td>1</td>\n",
              "      <td>Free entry in 2 a wkly comp to win FA Cup fina...</td>\n",
              "      <td>155</td>\n",
              "      <td>37</td>\n",
              "      <td>2</td>\n",
              "      <td>free entri 2 wkli comp win fa cup final tkt 21...</td>\n",
              "    </tr>\n",
              "    <tr>\n",
              "      <th>3</th>\n",
              "      <td>0</td>\n",
              "      <td>U dun say so early hor... U c already then say...</td>\n",
              "      <td>49</td>\n",
              "      <td>13</td>\n",
              "      <td>1</td>\n",
              "      <td>u dun say earli hor u c alreadi say</td>\n",
              "    </tr>\n",
              "    <tr>\n",
              "      <th>4</th>\n",
              "      <td>0</td>\n",
              "      <td>Nah I don't think he goes to usf, he lives aro...</td>\n",
              "      <td>61</td>\n",
              "      <td>15</td>\n",
              "      <td>1</td>\n",
              "      <td>nah think goe usf live around though</td>\n",
              "    </tr>\n",
              "  </tbody>\n",
              "</table>\n",
              "</div>"
            ],
            "text/plain": [
              "   target  ...                               transformed_messages\n",
              "0       0  ...  go jurong point avail bugi n great world la e ...\n",
              "1       0  ...                              ok lar joke wif u oni\n",
              "2       1  ...  free entri 2 wkli comp win fa cup final tkt 21...\n",
              "3       0  ...                u dun say earli hor u c alreadi say\n",
              "4       0  ...               nah think goe usf live around though\n",
              "\n",
              "[5 rows x 6 columns]"
            ]
          },
          "metadata": {},
          "execution_count": 260
        }
      ]
    },
    {
      "cell_type": "code",
      "metadata": {
        "id": "_-VH5fdfXSsb"
      },
      "source": [
        "spam_corpus=[]\n",
        "for messages in data[data['target']==1]['transformed_messages'].tolist():\n",
        "  for word in messages.split():\n",
        "    spam_corpus.append(word)"
      ],
      "execution_count": 261,
      "outputs": []
    },
    {
      "cell_type": "code",
      "metadata": {
        "colab": {
          "base_uri": "https://localhost:8080/"
        },
        "id": "LBZFUVfyYPUj",
        "outputId": "9bcda8fd-a26c-4f29-c487-c64b01853d24"
      },
      "source": [
        "len(spam_corpus)"
      ],
      "execution_count": 262,
      "outputs": [
        {
          "output_type": "execute_result",
          "data": {
            "text/plain": [
              "9883"
            ]
          },
          "metadata": {},
          "execution_count": 262
        }
      ]
    },
    {
      "cell_type": "code",
      "metadata": {
        "id": "BL2lbl80ZxY_"
      },
      "source": [
        "from collections import Counter"
      ],
      "execution_count": 263,
      "outputs": []
    },
    {
      "cell_type": "code",
      "metadata": {
        "id": "Ly-LPPmEZ66N"
      },
      "source": [
        "spam_words=pd.DataFrame(Counter(spam_corpus).most_common(30))"
      ],
      "execution_count": 264,
      "outputs": []
    },
    {
      "cell_type": "code",
      "metadata": {
        "colab": {
          "base_uri": "https://localhost:8080/",
          "height": 204
        },
        "id": "oY6UdwwbaAz-",
        "outputId": "2893be7c-9778-4e3d-be5a-b8ef5cbf64c5"
      },
      "source": [
        "spam_words.head()"
      ],
      "execution_count": 265,
      "outputs": [
        {
          "output_type": "execute_result",
          "data": {
            "text/html": [
              "<div>\n",
              "<style scoped>\n",
              "    .dataframe tbody tr th:only-of-type {\n",
              "        vertical-align: middle;\n",
              "    }\n",
              "\n",
              "    .dataframe tbody tr th {\n",
              "        vertical-align: top;\n",
              "    }\n",
              "\n",
              "    .dataframe thead th {\n",
              "        text-align: right;\n",
              "    }\n",
              "</style>\n",
              "<table border=\"1\" class=\"dataframe\">\n",
              "  <thead>\n",
              "    <tr style=\"text-align: right;\">\n",
              "      <th></th>\n",
              "      <th>0</th>\n",
              "      <th>1</th>\n",
              "    </tr>\n",
              "  </thead>\n",
              "  <tbody>\n",
              "    <tr>\n",
              "      <th>0</th>\n",
              "      <td>call</td>\n",
              "      <td>320</td>\n",
              "    </tr>\n",
              "    <tr>\n",
              "      <th>1</th>\n",
              "      <td>free</td>\n",
              "      <td>189</td>\n",
              "    </tr>\n",
              "    <tr>\n",
              "      <th>2</th>\n",
              "      <td>2</td>\n",
              "      <td>155</td>\n",
              "    </tr>\n",
              "    <tr>\n",
              "      <th>3</th>\n",
              "      <td>txt</td>\n",
              "      <td>141</td>\n",
              "    </tr>\n",
              "    <tr>\n",
              "      <th>4</th>\n",
              "      <td>text</td>\n",
              "      <td>122</td>\n",
              "    </tr>\n",
              "  </tbody>\n",
              "</table>\n",
              "</div>"
            ],
            "text/plain": [
              "      0    1\n",
              "0  call  320\n",
              "1  free  189\n",
              "2     2  155\n",
              "3   txt  141\n",
              "4  text  122"
            ]
          },
          "metadata": {},
          "execution_count": 265
        }
      ]
    },
    {
      "cell_type": "code",
      "metadata": {
        "colab": {
          "base_uri": "https://localhost:8080/",
          "height": 540
        },
        "id": "1LFkXcgeaZ56",
        "outputId": "69d50490-d721-4614-8262-a0be54f14b74"
      },
      "source": [
        "plt.figure(figsize=(15,8))\n",
        "sns.barplot(x=spam_words[0],y=spam_words[1])\n",
        "plt.xlabel(\"Words\")\n",
        "plt.ylabel(\"Counts\")\n",
        "plt.title(\"Top 30 words in Spam messages\")\n",
        "plt.xticks(rotation='vertical')\n",
        "plt.show()"
      ],
      "execution_count": 266,
      "outputs": [
        {
          "output_type": "display_data",
          "data": {
            "image/png": "[encoded data removed]",
            "text/plain": [
              "<Figure size 1080x576 with 1 Axes>"
            ]
          },
          "metadata": {
            "needs_background": "light"
          }
        }
      ]
    },
    {
      "cell_type": "code",
      "metadata": {
        "id": "KtO5rIlVajVX"
      },
      "source": [
        "ham_corpus=[]\n",
        "for message in data[data['target']==0]['transformed_messages'].tolist():\n",
        "  for word in message.split():\n",
        "    ham_corpus.append(word)"
      ],
      "execution_count": 267,
      "outputs": []
    },
    {
      "cell_type": "code",
      "metadata": {
        "colab": {
          "base_uri": "https://localhost:8080/"
        },
        "id": "IWyO3uNqbRvJ",
        "outputId": "02f510c2-33ed-4cbb-8d7e-e94842f9b85e"
      },
      "source": [
        "len(ham_corpus)"
      ],
      "execution_count": 268,
      "outputs": [
        {
          "output_type": "execute_result",
          "data": {
            "text/plain": [
              "34771"
            ]
          },
          "metadata": {},
          "execution_count": 268
        }
      ]
    },
    {
      "cell_type": "code",
      "metadata": {
        "id": "xNlsTKj0bxbw"
      },
      "source": [
        "ham_words=pd.DataFrame(Counter(ham_corpus).most_common(30))"
      ],
      "execution_count": 269,
      "outputs": []
    },
    {
      "cell_type": "code",
      "metadata": {
        "colab": {
          "base_uri": "https://localhost:8080/",
          "height": 204
        },
        "id": "2YgVrW9Wb9Cv",
        "outputId": "a99b3f57-2fce-4c03-cfb7-b8406a19098e"
      },
      "source": [
        "ham_words.head()"
      ],
      "execution_count": 270,
      "outputs": [
        {
          "output_type": "execute_result",
          "data": {
            "text/html": [
              "<div>\n",
              "<style scoped>\n",
              "    .dataframe tbody tr th:only-of-type {\n",
              "        vertical-align: middle;\n",
              "    }\n",
              "\n",
              "    .dataframe tbody tr th {\n",
              "        vertical-align: top;\n",
              "    }\n",
              "\n",
              "    .dataframe thead th {\n",
              "        text-align: right;\n",
              "    }\n",
              "</style>\n",
              "<table border=\"1\" class=\"dataframe\">\n",
              "  <thead>\n",
              "    <tr style=\"text-align: right;\">\n",
              "      <th></th>\n",
              "      <th>0</th>\n",
              "      <th>1</th>\n",
              "    </tr>\n",
              "  </thead>\n",
              "  <tbody>\n",
              "    <tr>\n",
              "      <th>0</th>\n",
              "      <td>u</td>\n",
              "      <td>871</td>\n",
              "    </tr>\n",
              "    <tr>\n",
              "      <th>1</th>\n",
              "      <td>go</td>\n",
              "      <td>401</td>\n",
              "    </tr>\n",
              "    <tr>\n",
              "      <th>2</th>\n",
              "      <td>get</td>\n",
              "      <td>349</td>\n",
              "    </tr>\n",
              "    <tr>\n",
              "      <th>3</th>\n",
              "      <td>gt</td>\n",
              "      <td>288</td>\n",
              "    </tr>\n",
              "    <tr>\n",
              "      <th>4</th>\n",
              "      <td>lt</td>\n",
              "      <td>287</td>\n",
              "    </tr>\n",
              "  </tbody>\n",
              "</table>\n",
              "</div>"
            ],
            "text/plain": [
              "     0    1\n",
              "0    u  871\n",
              "1   go  401\n",
              "2  get  349\n",
              "3   gt  288\n",
              "4   lt  287"
            ]
          },
          "metadata": {},
          "execution_count": 270
        }
      ]
    },
    {
      "cell_type": "code",
      "metadata": {
        "colab": {
          "base_uri": "https://localhost:8080/",
          "height": 531
        },
        "id": "JZmevVAgcP0V",
        "outputId": "a47c5f67-ba5a-4e08-b170-226527138a89"
      },
      "source": [
        "plt.figure(figsize=(15,8))\n",
        "sns.barplot(x=ham_words[0],y=ham_words[1])\n",
        "plt.xlabel(\"Ham Words\")\n",
        "plt.ylabel(\"Counts\")\n",
        "plt.title(\"Top 30 words in ham messages\")\n",
        "plt.xticks(rotation='vertical')\n",
        "plt.show()"
      ],
      "execution_count": 271,
      "outputs": [
        {
          "output_type": "display_data",
          "data": {
            "image/png": "[encoded data removed]",
            "text/plain": [
              "<Figure size 1080x576 with 1 Axes>"
            ]
          },
          "metadata": {
            "needs_background": "light"
          }
        }
      ]
    },
    {
      "cell_type": "markdown",
      "metadata": {
        "id": "SluBhDYweNBA"
      },
      "source": [
        "# **Phase 4. Model Building**"
      ]
    },
    {
      "cell_type": "markdown",
      "metadata": {
        "id": "3TR4cfAnkdN8"
      },
      "source": [
        ">> ## **Text Vectorization : Count Vectorizer**"
      ]
    },
    {
      "cell_type": "code",
      "metadata": {
        "id": "CT1N331FeSfW"
      },
      "source": [
        "from sklearn.feature_extraction.text import CountVectorizer"
      ],
      "execution_count": 272,
      "outputs": []
    },
    {
      "cell_type": "code",
      "metadata": {
        "id": "DKIP2_8jcVif"
      },
      "source": [
        "cv=CountVectorizer()"
      ],
      "execution_count": 273,
      "outputs": []
    },
    {
      "cell_type": "code",
      "metadata": {
        "id": "aysOcnh5chxH"
      },
      "source": [
        "x=cv.fit_transform(data['transformed_messages']).toarray()\n",
        "y=data['target'].values"
      ],
      "execution_count": 274,
      "outputs": []
    },
    {
      "cell_type": "code",
      "metadata": {
        "id": "RgEhg2rGaZqR"
      },
      "source": [
        "from sklearn.model_selection import train_test_split\n",
        "x_train,x_test,y_train,y_test=train_test_split(x,y,test_size=0.2,random_state=2)"
      ],
      "execution_count": 275,
      "outputs": []
    },
    {
      "cell_type": "code",
      "metadata": {
        "id": "TdaaysA2c69k"
      },
      "source": [
        "from sklearn.naive_bayes import GaussianNB,MultinomialNB,BernoulliNB\n",
        "from sklearn.metrics import accuracy_score,confusion_matrix,precision_score"
      ],
      "execution_count": 276,
      "outputs": []
    },
    {
      "cell_type": "code",
      "metadata": {
        "id": "zHxyaSc5dK0M"
      },
      "source": [
        "gnb=GaussianNB()\n",
        "bnb=BernoulliNB()\n",
        "mnb=MultinomialNB()"
      ],
      "execution_count": 277,
      "outputs": []
    },
    {
      "cell_type": "code",
      "metadata": {
        "colab": {
          "base_uri": "https://localhost:8080/"
        },
        "id": "vmxtM-kkiKY-",
        "outputId": "b0940621-2ecf-467a-cd5d-7525128439c3"
      },
      "source": [
        "gnb.fit(x_train,y_train)\n",
        "bnb.fit(x_train,y_train)\n",
        "mnb.fit(x_train,y_train)"
      ],
      "execution_count": 278,
      "outputs": [
        {
          "output_type": "execute_result",
          "data": {
            "text/plain": [
              "MultinomialNB(alpha=1.0, class_prior=None, fit_prior=True)"
            ]
          },
          "metadata": {},
          "execution_count": 278
        }
      ]
    },
    {
      "cell_type": "code",
      "metadata": {
        "id": "9_cVAIAHiY8s"
      },
      "source": [
        "y_pred_gnb=gnb.predict(x_test)\n",
        "y_pred_bnb=bnb.predict(x_test)\n",
        "y_pred_mnb=mnb.predict(x_test)"
      ],
      "execution_count": 279,
      "outputs": []
    },
    {
      "cell_type": "code",
      "metadata": {
        "colab": {
          "base_uri": "https://localhost:8080/"
        },
        "id": "KokY8sDWiw8U",
        "outputId": "2ed3ac64-f71c-4d44-9702-54ff878a17ac"
      },
      "source": [
        "print(\"Gaussian Naive Bayes\\n\")\n",
        "\n",
        "print(\"Accuracy Score : \",accuracy_score(y_test,y_pred_gnb))\n",
        "print(\"Confusion Matrix : \\n\",confusion_matrix(y_test,y_pred_gnb))\n",
        "print(\"Precision Score : \",precision_score(y_test,y_pred_gnb))"
      ],
      "execution_count": 280,
      "outputs": [
        {
          "output_type": "stream",
          "name": "stdout",
          "text": [
            "Gaussian Naive Bayes\n",
            "\n",
            "Accuracy Score :  0.874274661508704\n",
            "Confusion Matrix : \n",
            " [[786 110]\n",
            " [ 20 118]]\n",
            "Precision Score :  0.5175438596491229\n"
          ]
        }
      ]
    },
    {
      "cell_type": "code",
      "metadata": {
        "colab": {
          "base_uri": "https://localhost:8080/"
        },
        "id": "5d1_F1gWjNgk",
        "outputId": "9c2c4a96-cec7-4951-cd22-d2c5f37104b6"
      },
      "source": [
        "print(\"Bernoulli Naive Bayes\\n\")\n",
        "\n",
        "print(\"Accuracy Score : \",accuracy_score(y_test,y_pred_bnb))\n",
        "print(\"Confusion Matrix : \\n\",confusion_matrix(y_test,y_pred_bnb))\n",
        "print(\"Precision Score : \",precision_score(y_test,y_pred_bnb))"
      ],
      "execution_count": 281,
      "outputs": [
        {
          "output_type": "stream",
          "name": "stdout",
          "text": [
            "Bernoulli Naive Bayes\n",
            "\n",
            "Accuracy Score :  0.9709864603481625\n",
            "Confusion Matrix : \n",
            " [[893   3]\n",
            " [ 27 111]]\n",
            "Precision Score :  0.9736842105263158\n"
          ]
        }
      ]
    },
    {
      "cell_type": "code",
      "metadata": {
        "colab": {
          "base_uri": "https://localhost:8080/"
        },
        "id": "up9VoUwkjwUi",
        "outputId": "063fbcda-02aa-4d1b-9409-46104f3e4460"
      },
      "source": [
        "print(\"Multinomial Naive Bayes\\n\")\n",
        "\n",
        "print(\"Accuracy Score : \",accuracy_score(y_test,y_pred_mnb))\n",
        "print(\"Confusion Matrix : \\n\",confusion_matrix(y_test,y_pred_mnb))\n",
        "print(\"Precision Score : \",precision_score(y_test,y_pred_mnb))"
      ],
      "execution_count": 282,
      "outputs": [
        {
          "output_type": "stream",
          "name": "stdout",
          "text": [
            "Multinomial Naive Bayes\n",
            "\n",
            "Accuracy Score :  0.965183752417795\n",
            "Confusion Matrix : \n",
            " [[872  24]\n",
            " [ 12 126]]\n",
            "Precision Score :  0.84\n"
          ]
        }
      ]
    },
    {
      "cell_type": "markdown",
      "metadata": {
        "id": "vrE0QAFYlKQG"
      },
      "source": [
        ">> ## **Text Vectorization : Tfidf Vectorizer**"
      ]
    },
    {
      "cell_type": "code",
      "metadata": {
        "id": "dr2Oom2QlU6W"
      },
      "source": [
        "from sklearn.feature_extraction.text import TfidfVectorizer"
      ],
      "execution_count": 283,
      "outputs": []
    },
    {
      "cell_type": "code",
      "metadata": {
        "id": "c8iIY_pVlVjS"
      },
      "source": [
        "tfidf=TfidfVectorizer()"
      ],
      "execution_count": 284,
      "outputs": []
    },
    {
      "cell_type": "code",
      "metadata": {
        "id": "nwBPykIoldeI"
      },
      "source": [
        "x=tfidf.fit_transform(data['transformed_messages']).toarray()\n",
        "y=data['target'].values"
      ],
      "execution_count": 285,
      "outputs": []
    },
    {
      "cell_type": "code",
      "metadata": {
        "id": "4yU6mAe4llUV"
      },
      "source": [
        "from sklearn.model_selection import train_test_split\n",
        "x_train,x_test,y_train,y_test=train_test_split(x,y,test_size=0.2,random_state=2)"
      ],
      "execution_count": 286,
      "outputs": []
    },
    {
      "cell_type": "code",
      "metadata": {
        "colab": {
          "base_uri": "https://localhost:8080/"
        },
        "id": "mf_TsLm0lua4",
        "outputId": "a484e454-6948-4373-b0a3-9bd16e8816ff"
      },
      "source": [
        "gnb.fit(x_train,y_train)\n",
        "bnb.fit(x_train,y_train)\n",
        "mnb.fit(x_train,y_train)"
      ],
      "execution_count": 287,
      "outputs": [
        {
          "output_type": "execute_result",
          "data": {
            "text/plain": [
              "MultinomialNB(alpha=1.0, class_prior=None, fit_prior=True)"
            ]
          },
          "metadata": {},
          "execution_count": 287
        }
      ]
    },
    {
      "cell_type": "code",
      "metadata": {
        "id": "Ir1Kd25al1l5"
      },
      "source": [
        "y_pred_gnb=gnb.predict(x_test)\n",
        "y_pred_bnb=bnb.predict(x_test)\n",
        "y_pred_mnb=mnb.predict(x_test)"
      ],
      "execution_count": 288,
      "outputs": []
    },
    {
      "cell_type": "code",
      "metadata": {
        "colab": {
          "base_uri": "https://localhost:8080/"
        },
        "id": "q9PMb7M6l8Ap",
        "outputId": "60ac1678-bec7-4e73-d808-93b028bc275e"
      },
      "source": [
        "print(\"Gaussian Naive Bayes\\n\")\n",
        "\n",
        "print(\"Accuracy Score : \",accuracy_score(y_test,y_pred_gnb))\n",
        "print(\"Confusion Matrix : \\n\",confusion_matrix(y_test,y_pred_gnb))\n",
        "print(\"Precision Score : \",precision_score(y_test,y_pred_gnb))"
      ],
      "execution_count": 289,
      "outputs": [
        {
          "output_type": "stream",
          "name": "stdout",
          "text": [
            "Gaussian Naive Bayes\n",
            "\n",
            "Accuracy Score :  0.8704061895551257\n",
            "Confusion Matrix : \n",
            " [[787 109]\n",
            " [ 25 113]]\n",
            "Precision Score :  0.509009009009009\n"
          ]
        }
      ]
    },
    {
      "cell_type": "code",
      "metadata": {
        "colab": {
          "base_uri": "https://localhost:8080/"
        },
        "id": "gl6_P8HPl_0p",
        "outputId": "3afaade6-99e7-49c1-e5cf-8778a00ddc66"
      },
      "source": [
        "print(\"Bernoulli Naive Bayes\\n\")\n",
        "\n",
        "print(\"Accuracy Score : \",accuracy_score(y_test,y_pred_bnb))\n",
        "print(\"Confusion Matrix : \\n\",confusion_matrix(y_test,y_pred_bnb))\n",
        "print(\"Precision Score : \",precision_score(y_test,y_pred_bnb))"
      ],
      "execution_count": 290,
      "outputs": [
        {
          "output_type": "stream",
          "name": "stdout",
          "text": [
            "Bernoulli Naive Bayes\n",
            "\n",
            "Accuracy Score :  0.9709864603481625\n",
            "Confusion Matrix : \n",
            " [[893   3]\n",
            " [ 27 111]]\n",
            "Precision Score :  0.9736842105263158\n"
          ]
        }
      ]
    },
    {
      "cell_type": "code",
      "metadata": {
        "colab": {
          "base_uri": "https://localhost:8080/"
        },
        "id": "VQXqKclrmGc_",
        "outputId": "1f3e5f1c-d3f0-4a02-8ff2-59754cc81dd6"
      },
      "source": [
        "print(\"Multinomial Naive Bayes\\n\")\n",
        "\n",
        "print(\"Accuracy Score : \",accuracy_score(y_test,y_pred_mnb))\n",
        "print(\"Confusion Matrix : \\n\",confusion_matrix(y_test,y_pred_mnb))\n",
        "print(\"Precision Score : \",precision_score(y_test,y_pred_mnb))"
      ],
      "execution_count": 291,
      "outputs": [
        {
          "output_type": "stream",
          "name": "stdout",
          "text": [
            "Multinomial Naive Bayes\n",
            "\n",
            "Accuracy Score :  0.9593810444874274\n",
            "Confusion Matrix : \n",
            " [[896   0]\n",
            " [ 42  96]]\n",
            "Precision Score :  1.0\n"
          ]
        }
      ]
    },
    {
      "cell_type": "markdown",
      "metadata": {
        "id": "Rr7LkL0Fmd_a"
      },
      "source": [
        "We have more tfidf vectorized mnb naive bayes as the most precise."
      ]
    },
    {
      "cell_type": "markdown",
      "metadata": {
        "id": "lbIrWdybm_F0"
      },
      "source": [
        "Now we will try other models too and compare their accuracy"
      ]
    },
    {
      "cell_type": "code",
      "metadata": {
        "id": "SEAEi9bSmM7w"
      },
      "source": [
        "from sklearn.linear_model import LogisticRegression\n",
        "from sklearn.neighbors import KNeighborsClassifier\n",
        "from sklearn.naive_bayes import GaussianNB\n",
        "from sklearn.naive_bayes import BernoulliNB\n",
        "from sklearn.naive_bayes import MultinomialNB\n",
        "from sklearn.tree import DecisionTreeClassifier\n",
        "from sklearn.ensemble import RandomForestClassifier\n",
        "from sklearn.ensemble import ExtraTreesClassifier\n",
        "from sklearn.ensemble import AdaBoostClassifier\n",
        "from sklearn.ensemble import BaggingClassifier\n",
        "from sklearn.ensemble import GradientBoostingClassifier\n",
        "from sklearn.svm import SVC\n",
        "from xgboost import XGBClassifier"
      ],
      "execution_count": 292,
      "outputs": []
    },
    {
      "cell_type": "code",
      "metadata": {
        "id": "bEI8yP9Lpwie"
      },
      "source": [
        "lrc=LogisticRegression(solver='liblinear',penalty='l1')\n",
        "knn=KNeighborsClassifier()\n",
        "gnb=GaussianNB()\n",
        "bnb=BernoulliNB()\n",
        "mnb=MultinomialNB()\n",
        "dtc=DecisionTreeClassifier(max_depth=5)\n",
        "rfc=RandomForestClassifier(n_estimators=50,random_state=2)\n",
        "etc=ExtraTreesClassifier(n_estimators=50,random_state=2)\n",
        "abc=AdaBoostClassifier(n_estimators=50,random_state=2)\n",
        "bc=BaggingClassifier(n_estimators=50,random_state=2)\n",
        "gbc=GradientBoostingClassifier(n_estimators=50,random_state=2)\n",
        "xgbc=XGBClassifier(n_estimators=50,random_state=2)\n",
        "svc=SVC(kernel='sigmoid',gamma=1.0)"
      ],
      "execution_count": 293,
      "outputs": []
    },
    {
      "cell_type": "code",
      "metadata": {
        "id": "c2JXipTor51R"
      },
      "source": [
        "clfs={\n",
        "    'Logistic Regression':lrc,\n",
        "    'KNeighbors':knn,\n",
        "    'Gaussian Naive Bayes':gnb,\n",
        "    'Bernoulli Naive Bayes':bnb,\n",
        "    'Multinomial Naive Bayes':mnb,\n",
        "    'Decision Tree':dtc,\n",
        "    'Random Forest':rfc,\n",
        "    'Extra Trees':etc,\n",
        "    'Adaboost':abc,\n",
        "    'Bagging':bc,\n",
        "    'Gradient Boosting':gbc,\n",
        "    'XGB Classifier':xgbc,\n",
        "    'Support Vector':svc\n",
        "}"
      ],
      "execution_count": 294,
      "outputs": []
    },
    {
      "cell_type": "code",
      "metadata": {
        "id": "KoYv1vPZuLgH"
      },
      "source": [
        "def result(clf,x_train,y_train,x_test,y_test):\n",
        "  clf.fit(x_train,y_train)\n",
        "  y_pred=clf.predict(x_test)\n",
        "  accuracy=accuracy_score(y_test,y_pred)\n",
        "  precision=precision_score(y_test,y_pred)\n",
        "\n",
        "  return accuracy, precision"
      ],
      "execution_count": 295,
      "outputs": []
    },
    {
      "cell_type": "code",
      "metadata": {
        "colab": {
          "base_uri": "https://localhost:8080/"
        },
        "id": "92K_C_Dzu7id",
        "outputId": "6753e121-8ada-4889-9a8c-fcaaae38d672"
      },
      "source": [
        "result(lrc,x_train,y_train,x_test,y_test)"
      ],
      "execution_count": 296,
      "outputs": [
        {
          "output_type": "execute_result",
          "data": {
            "text/plain": [
              "(0.9526112185686654, 0.9320388349514563)"
            ]
          },
          "metadata": {},
          "execution_count": 296
        }
      ]
    },
    {
      "cell_type": "code",
      "metadata": {
        "id": "ExanLITZvmXM"
      },
      "source": [
        "accuracy_scores=[]\n",
        "precision_scores=[]\n",
        "for name, clf in clfs.items():\n",
        "  current_accuracy,current_precision=result(clf,x_train,y_train,x_test,y_test)\n",
        "  #print('For',name)\n",
        "  #print(\"Accuracy : \",current_accuracy)\n",
        "  #print(\"Precision : \",current_precision,'\\n')\n",
        "\n",
        "  accuracy_scores.append(current_accuracy)\n",
        "  precision_scores.append(current_precision)"
      ],
      "execution_count": 297,
      "outputs": []
    },
    {
      "cell_type": "code",
      "metadata": {
        "id": "sPZTZT26vxlU"
      },
      "source": [
        "result1=pd.DataFrame({'Algorithm':clfs.keys(),'Accuracy':accuracy_scores,'Precision':precision_scores,}).sort_values('Precision',ascending=False)"
      ],
      "execution_count": 298,
      "outputs": []
    },
    {
      "cell_type": "code",
      "metadata": {
        "colab": {
          "base_uri": "https://localhost:8080/",
          "height": 452
        },
        "id": "gd0MPckEy7dN",
        "outputId": "a28dab76-c17a-4f1d-a575-a112234d4986"
      },
      "source": [
        "result1"
      ],
      "execution_count": 299,
      "outputs": [
        {
          "output_type": "execute_result",
          "data": {
            "text/html": [
              "<div>\n",
              "<style scoped>\n",
              "    .dataframe tbody tr th:only-of-type {\n",
              "        vertical-align: middle;\n",
              "    }\n",
              "\n",
              "    .dataframe tbody tr th {\n",
              "        vertical-align: top;\n",
              "    }\n",
              "\n",
              "    .dataframe thead th {\n",
              "        text-align: right;\n",
              "    }\n",
              "</style>\n",
              "<table border=\"1\" class=\"dataframe\">\n",
              "  <thead>\n",
              "    <tr style=\"text-align: right;\">\n",
              "      <th></th>\n",
              "      <th>Algorithm</th>\n",
              "      <th>Accuracy</th>\n",
              "      <th>Precision</th>\n",
              "    </tr>\n",
              "  </thead>\n",
              "  <tbody>\n",
              "    <tr>\n",
              "      <th>1</th>\n",
              "      <td>KNeighbors</td>\n",
              "      <td>0.900387</td>\n",
              "      <td>1.000000</td>\n",
              "    </tr>\n",
              "    <tr>\n",
              "      <th>4</th>\n",
              "      <td>Multinomial Naive Bayes</td>\n",
              "      <td>0.959381</td>\n",
              "      <td>1.000000</td>\n",
              "    </tr>\n",
              "    <tr>\n",
              "      <th>6</th>\n",
              "      <td>Random Forest</td>\n",
              "      <td>0.976789</td>\n",
              "      <td>0.991379</td>\n",
              "    </tr>\n",
              "    <tr>\n",
              "      <th>7</th>\n",
              "      <td>Extra Trees</td>\n",
              "      <td>0.975822</td>\n",
              "      <td>0.974790</td>\n",
              "    </tr>\n",
              "    <tr>\n",
              "      <th>3</th>\n",
              "      <td>Bernoulli Naive Bayes</td>\n",
              "      <td>0.970986</td>\n",
              "      <td>0.973684</td>\n",
              "    </tr>\n",
              "    <tr>\n",
              "      <th>12</th>\n",
              "      <td>Support Vector</td>\n",
              "      <td>0.972921</td>\n",
              "      <td>0.966102</td>\n",
              "    </tr>\n",
              "    <tr>\n",
              "      <th>0</th>\n",
              "      <td>Logistic Regression</td>\n",
              "      <td>0.952611</td>\n",
              "      <td>0.932039</td>\n",
              "    </tr>\n",
              "    <tr>\n",
              "      <th>8</th>\n",
              "      <td>Adaboost</td>\n",
              "      <td>0.961315</td>\n",
              "      <td>0.929825</td>\n",
              "    </tr>\n",
              "    <tr>\n",
              "      <th>11</th>\n",
              "      <td>XGB Classifier</td>\n",
              "      <td>0.950677</td>\n",
              "      <td>0.914286</td>\n",
              "    </tr>\n",
              "    <tr>\n",
              "      <th>10</th>\n",
              "      <td>Gradient Boosting</td>\n",
              "      <td>0.951644</td>\n",
              "      <td>0.892857</td>\n",
              "    </tr>\n",
              "    <tr>\n",
              "      <th>9</th>\n",
              "      <td>Bagging</td>\n",
              "      <td>0.959381</td>\n",
              "      <td>0.869231</td>\n",
              "    </tr>\n",
              "    <tr>\n",
              "      <th>5</th>\n",
              "      <td>Decision Tree</td>\n",
              "      <td>0.934236</td>\n",
              "      <td>0.830189</td>\n",
              "    </tr>\n",
              "    <tr>\n",
              "      <th>2</th>\n",
              "      <td>Gaussian Naive Bayes</td>\n",
              "      <td>0.870406</td>\n",
              "      <td>0.509009</td>\n",
              "    </tr>\n",
              "  </tbody>\n",
              "</table>\n",
              "</div>"
            ],
            "text/plain": [
              "                  Algorithm  Accuracy  Precision\n",
              "1                KNeighbors  0.900387   1.000000\n",
              "4   Multinomial Naive Bayes  0.959381   1.000000\n",
              "6             Random Forest  0.976789   0.991379\n",
              "7               Extra Trees  0.975822   0.974790\n",
              "3     Bernoulli Naive Bayes  0.970986   0.973684\n",
              "12           Support Vector  0.972921   0.966102\n",
              "0       Logistic Regression  0.952611   0.932039\n",
              "8                  Adaboost  0.961315   0.929825\n",
              "11           XGB Classifier  0.950677   0.914286\n",
              "10        Gradient Boosting  0.951644   0.892857\n",
              "9                   Bagging  0.959381   0.869231\n",
              "5             Decision Tree  0.934236   0.830189\n",
              "2      Gaussian Naive Bayes  0.870406   0.509009"
            ]
          },
          "metadata": {},
          "execution_count": 299
        }
      ]
    },
    {
      "cell_type": "code",
      "metadata": {
        "id": "mdh5TvX23wyc"
      },
      "source": [
        "result1_melt=pd.melt(result_table,id_vars='Algorithm')"
      ],
      "execution_count": 300,
      "outputs": []
    },
    {
      "cell_type": "code",
      "metadata": {
        "colab": {
          "base_uri": "https://localhost:8080/",
          "height": 504
        },
        "id": "TDFW2M0F1Gm1",
        "outputId": "39088fc8-626b-45e7-e221-e97d54818967"
      },
      "source": [
        "import seaborn as sns\n",
        "plt.figure(figsize=(20,12))\n",
        "sns.catplot(x=\"Algorithm\",y='value',hue='variable',data=result_table1,kind='bar',height=5)\n",
        "plt.xticks(rotation='vertical')\n",
        "plt.ylim(0.5,1.0)\n",
        "plt.show()"
      ],
      "execution_count": 301,
      "outputs": [
        {
          "output_type": "display_data",
          "data": {
            "text/plain": [
              "<Figure size 1440x864 with 0 Axes>"
            ]
          },
          "metadata": {}
        },
        {
          "output_type": "display_data",
          "data": {
            "image/png": "[encoded data removed]",
            "text/plain": [
              "<Figure size 441.75x360 with 1 Axes>"
            ]
          },
          "metadata": {
            "needs_background": "light"
          }
        }
      ]
    },
    {
      "cell_type": "code",
      "metadata": {
        "id": "qCNc_6fU2JER"
      },
      "source": [
        ""
      ],
      "execution_count": 301,
      "outputs": []
    },
    {
      "cell_type": "markdown",
      "metadata": {
        "id": "qaG8HEBA5YV7"
      },
      "source": [
        "# **Phase 5. Model Improvement**"
      ]
    },
    {
      "cell_type": "markdown",
      "metadata": {
        "id": "zZ5tP4HgRgPM"
      },
      "source": [
        ">> ## **Limiting max_features to 3000 in Tfidf**"
      ]
    },
    {
      "cell_type": "code",
      "metadata": {
        "id": "sRpo_z_lRrZ4"
      },
      "source": [
        "tfidf=TfidfVectorizer(max_features=3000)"
      ],
      "execution_count": 302,
      "outputs": []
    },
    {
      "cell_type": "code",
      "metadata": {
        "id": "bA4C2w6JR1PR"
      },
      "source": [
        "x=tfidf.fit_transform(data['transformed_messages']).toarray()\n",
        "y=data['target'].values"
      ],
      "execution_count": 303,
      "outputs": []
    },
    {
      "cell_type": "code",
      "metadata": {
        "id": "aO9ahsGgR9E8"
      },
      "source": [
        "from sklearn.model_selection import train_test_split\n",
        "x_train,x_test,y_train,y_test=train_test_split(x,y,test_size=0.2,random_state=2)"
      ],
      "execution_count": 304,
      "outputs": []
    },
    {
      "cell_type": "code",
      "metadata": {
        "id": "81P7cwuHSDPR"
      },
      "source": [
        "accuracy_scores=[]\n",
        "precision_scores=[]\n",
        "for name, clf in clfs.items():\n",
        "  current_accuracy,current_precision=result(clf,x_train,y_train,x_test,y_test)\n",
        "  #print('For',name)\n",
        "  #print(\"Accuracy : \",current_accuracy)\n",
        "  #print(\"Precision : \",current_precision,'\\n')\n",
        "\n",
        "  accuracy_scores.append(current_accuracy)\n",
        "  precision_scores.append(current_precision)"
      ],
      "execution_count": 305,
      "outputs": []
    },
    {
      "cell_type": "code",
      "metadata": {
        "id": "I93XDSmATBjq"
      },
      "source": [
        "result_mf_3000=pd.DataFrame({'Algorithm':clfs.keys(),'Accuracy_mf_3000':accuracy_scores,'Precision_mf_3000':precision_scores,}).sort_values('Precision_mf_3000',ascending=False)"
      ],
      "execution_count": 306,
      "outputs": []
    },
    {
      "cell_type": "code",
      "metadata": {
        "colab": {
          "base_uri": "https://localhost:8080/",
          "height": 452
        },
        "id": "IAtTINGATfUc",
        "outputId": "26e89085-0f6c-4058-86e9-e138f73fb843"
      },
      "source": [
        "result_mf_3000"
      ],
      "execution_count": 307,
      "outputs": [
        {
          "output_type": "execute_result",
          "data": {
            "text/html": [
              "<div>\n",
              "<style scoped>\n",
              "    .dataframe tbody tr th:only-of-type {\n",
              "        vertical-align: middle;\n",
              "    }\n",
              "\n",
              "    .dataframe tbody tr th {\n",
              "        vertical-align: top;\n",
              "    }\n",
              "\n",
              "    .dataframe thead th {\n",
              "        text-align: right;\n",
              "    }\n",
              "</style>\n",
              "<table border=\"1\" class=\"dataframe\">\n",
              "  <thead>\n",
              "    <tr style=\"text-align: right;\">\n",
              "      <th></th>\n",
              "      <th>Algorithm</th>\n",
              "      <th>Accuracy_mf_3000</th>\n",
              "      <th>Precision_mf_3000</th>\n",
              "    </tr>\n",
              "  </thead>\n",
              "  <tbody>\n",
              "    <tr>\n",
              "      <th>1</th>\n",
              "      <td>KNeighbors</td>\n",
              "      <td>0.905222</td>\n",
              "      <td>1.000000</td>\n",
              "    </tr>\n",
              "    <tr>\n",
              "      <th>4</th>\n",
              "      <td>Multinomial Naive Bayes</td>\n",
              "      <td>0.972921</td>\n",
              "      <td>1.000000</td>\n",
              "    </tr>\n",
              "    <tr>\n",
              "      <th>3</th>\n",
              "      <td>Bernoulli Naive Bayes</td>\n",
              "      <td>0.981625</td>\n",
              "      <td>0.991736</td>\n",
              "    </tr>\n",
              "    <tr>\n",
              "      <th>7</th>\n",
              "      <td>Extra Trees</td>\n",
              "      <td>0.977756</td>\n",
              "      <td>0.983193</td>\n",
              "    </tr>\n",
              "    <tr>\n",
              "      <th>6</th>\n",
              "      <td>Random Forest</td>\n",
              "      <td>0.971954</td>\n",
              "      <td>0.973913</td>\n",
              "    </tr>\n",
              "    <tr>\n",
              "      <th>12</th>\n",
              "      <td>Support Vector</td>\n",
              "      <td>0.974855</td>\n",
              "      <td>0.966667</td>\n",
              "    </tr>\n",
              "    <tr>\n",
              "      <th>0</th>\n",
              "      <td>Logistic Regression</td>\n",
              "      <td>0.957447</td>\n",
              "      <td>0.951923</td>\n",
              "    </tr>\n",
              "    <tr>\n",
              "      <th>11</th>\n",
              "      <td>XGB Classifier</td>\n",
              "      <td>0.946809</td>\n",
              "      <td>0.946237</td>\n",
              "    </tr>\n",
              "    <tr>\n",
              "      <th>8</th>\n",
              "      <td>Adaboost</td>\n",
              "      <td>0.964217</td>\n",
              "      <td>0.931624</td>\n",
              "    </tr>\n",
              "    <tr>\n",
              "      <th>10</th>\n",
              "      <td>Gradient Boosting</td>\n",
              "      <td>0.948743</td>\n",
              "      <td>0.929293</td>\n",
              "    </tr>\n",
              "    <tr>\n",
              "      <th>9</th>\n",
              "      <td>Bagging</td>\n",
              "      <td>0.954545</td>\n",
              "      <td>0.858268</td>\n",
              "    </tr>\n",
              "    <tr>\n",
              "      <th>5</th>\n",
              "      <td>Decision Tree</td>\n",
              "      <td>0.932302</td>\n",
              "      <td>0.846939</td>\n",
              "    </tr>\n",
              "    <tr>\n",
              "      <th>2</th>\n",
              "      <td>Gaussian Naive Bayes</td>\n",
              "      <td>0.867505</td>\n",
              "      <td>0.502242</td>\n",
              "    </tr>\n",
              "  </tbody>\n",
              "</table>\n",
              "</div>"
            ],
            "text/plain": [
              "                  Algorithm  Accuracy_mf_3000  Precision_mf_3000\n",
              "1                KNeighbors          0.905222           1.000000\n",
              "4   Multinomial Naive Bayes          0.972921           1.000000\n",
              "3     Bernoulli Naive Bayes          0.981625           0.991736\n",
              "7               Extra Trees          0.977756           0.983193\n",
              "6             Random Forest          0.971954           0.973913\n",
              "12           Support Vector          0.974855           0.966667\n",
              "0       Logistic Regression          0.957447           0.951923\n",
              "11           XGB Classifier          0.946809           0.946237\n",
              "8                  Adaboost          0.964217           0.931624\n",
              "10        Gradient Boosting          0.948743           0.929293\n",
              "9                   Bagging          0.954545           0.858268\n",
              "5             Decision Tree          0.932302           0.846939\n",
              "2      Gaussian Naive Bayes          0.867505           0.502242"
            ]
          },
          "metadata": {},
          "execution_count": 307
        }
      ]
    },
    {
      "cell_type": "code",
      "metadata": {
        "id": "Aw0Cb_SFTmIq"
      },
      "source": [
        "result2=result1.merge(result_mf_3000,on='Algorithm')"
      ],
      "execution_count": 308,
      "outputs": []
    },
    {
      "cell_type": "code",
      "metadata": {
        "colab": {
          "base_uri": "https://localhost:8080/",
          "height": 452
        },
        "id": "ILCeTSyYUL5h",
        "outputId": "4c55649a-9be4-4261-e216-a0c31246b1a9"
      },
      "source": [
        "result2"
      ],
      "execution_count": 309,
      "outputs": [
        {
          "output_type": "execute_result",
          "data": {
            "text/html": [
              "<div>\n",
              "<style scoped>\n",
              "    .dataframe tbody tr th:only-of-type {\n",
              "        vertical-align: middle;\n",
              "    }\n",
              "\n",
              "    .dataframe tbody tr th {\n",
              "        vertical-align: top;\n",
              "    }\n",
              "\n",
              "    .dataframe thead th {\n",
              "        text-align: right;\n",
              "    }\n",
              "</style>\n",
              "<table border=\"1\" class=\"dataframe\">\n",
              "  <thead>\n",
              "    <tr style=\"text-align: right;\">\n",
              "      <th></th>\n",
              "      <th>Algorithm</th>\n",
              "      <th>Accuracy</th>\n",
              "      <th>Precision</th>\n",
              "      <th>Accuracy_mf_3000</th>\n",
              "      <th>Precision_mf_3000</th>\n",
              "    </tr>\n",
              "  </thead>\n",
              "  <tbody>\n",
              "    <tr>\n",
              "      <th>0</th>\n",
              "      <td>KNeighbors</td>\n",
              "      <td>0.900387</td>\n",
              "      <td>1.000000</td>\n",
              "      <td>0.905222</td>\n",
              "      <td>1.000000</td>\n",
              "    </tr>\n",
              "    <tr>\n",
              "      <th>1</th>\n",
              "      <td>Multinomial Naive Bayes</td>\n",
              "      <td>0.959381</td>\n",
              "      <td>1.000000</td>\n",
              "      <td>0.972921</td>\n",
              "      <td>1.000000</td>\n",
              "    </tr>\n",
              "    <tr>\n",
              "      <th>2</th>\n",
              "      <td>Random Forest</td>\n",
              "      <td>0.976789</td>\n",
              "      <td>0.991379</td>\n",
              "      <td>0.971954</td>\n",
              "      <td>0.973913</td>\n",
              "    </tr>\n",
              "    <tr>\n",
              "      <th>3</th>\n",
              "      <td>Extra Trees</td>\n",
              "      <td>0.975822</td>\n",
              "      <td>0.974790</td>\n",
              "      <td>0.977756</td>\n",
              "      <td>0.983193</td>\n",
              "    </tr>\n",
              "    <tr>\n",
              "      <th>4</th>\n",
              "      <td>Bernoulli Naive Bayes</td>\n",
              "      <td>0.970986</td>\n",
              "      <td>0.973684</td>\n",
              "      <td>0.981625</td>\n",
              "      <td>0.991736</td>\n",
              "    </tr>\n",
              "    <tr>\n",
              "      <th>5</th>\n",
              "      <td>Support Vector</td>\n",
              "      <td>0.972921</td>\n",
              "      <td>0.966102</td>\n",
              "      <td>0.974855</td>\n",
              "      <td>0.966667</td>\n",
              "    </tr>\n",
              "    <tr>\n",
              "      <th>6</th>\n",
              "      <td>Logistic Regression</td>\n",
              "      <td>0.952611</td>\n",
              "      <td>0.932039</td>\n",
              "      <td>0.957447</td>\n",
              "      <td>0.951923</td>\n",
              "    </tr>\n",
              "    <tr>\n",
              "      <th>7</th>\n",
              "      <td>Adaboost</td>\n",
              "      <td>0.961315</td>\n",
              "      <td>0.929825</td>\n",
              "      <td>0.964217</td>\n",
              "      <td>0.931624</td>\n",
              "    </tr>\n",
              "    <tr>\n",
              "      <th>8</th>\n",
              "      <td>XGB Classifier</td>\n",
              "      <td>0.950677</td>\n",
              "      <td>0.914286</td>\n",
              "      <td>0.946809</td>\n",
              "      <td>0.946237</td>\n",
              "    </tr>\n",
              "    <tr>\n",
              "      <th>9</th>\n",
              "      <td>Gradient Boosting</td>\n",
              "      <td>0.951644</td>\n",
              "      <td>0.892857</td>\n",
              "      <td>0.948743</td>\n",
              "      <td>0.929293</td>\n",
              "    </tr>\n",
              "    <tr>\n",
              "      <th>10</th>\n",
              "      <td>Bagging</td>\n",
              "      <td>0.959381</td>\n",
              "      <td>0.869231</td>\n",
              "      <td>0.954545</td>\n",
              "      <td>0.858268</td>\n",
              "    </tr>\n",
              "    <tr>\n",
              "      <th>11</th>\n",
              "      <td>Decision Tree</td>\n",
              "      <td>0.934236</td>\n",
              "      <td>0.830189</td>\n",
              "      <td>0.932302</td>\n",
              "      <td>0.846939</td>\n",
              "    </tr>\n",
              "    <tr>\n",
              "      <th>12</th>\n",
              "      <td>Gaussian Naive Bayes</td>\n",
              "      <td>0.870406</td>\n",
              "      <td>0.509009</td>\n",
              "      <td>0.867505</td>\n",
              "      <td>0.502242</td>\n",
              "    </tr>\n",
              "  </tbody>\n",
              "</table>\n",
              "</div>"
            ],
            "text/plain": [
              "                  Algorithm  Accuracy  ...  Accuracy_mf_3000  Precision_mf_3000\n",
              "0                KNeighbors  0.900387  ...          0.905222           1.000000\n",
              "1   Multinomial Naive Bayes  0.959381  ...          0.972921           1.000000\n",
              "2             Random Forest  0.976789  ...          0.971954           0.973913\n",
              "3               Extra Trees  0.975822  ...          0.977756           0.983193\n",
              "4     Bernoulli Naive Bayes  0.970986  ...          0.981625           0.991736\n",
              "5            Support Vector  0.972921  ...          0.974855           0.966667\n",
              "6       Logistic Regression  0.952611  ...          0.957447           0.951923\n",
              "7                  Adaboost  0.961315  ...          0.964217           0.931624\n",
              "8            XGB Classifier  0.950677  ...          0.946809           0.946237\n",
              "9         Gradient Boosting  0.951644  ...          0.948743           0.929293\n",
              "10                  Bagging  0.959381  ...          0.954545           0.858268\n",
              "11            Decision Tree  0.934236  ...          0.932302           0.846939\n",
              "12     Gaussian Naive Bayes  0.870406  ...          0.867505           0.502242\n",
              "\n",
              "[13 rows x 5 columns]"
            ]
          },
          "metadata": {},
          "execution_count": 309
        }
      ]
    },
    {
      "cell_type": "markdown",
      "metadata": {
        "id": "hCRGShCwWfPC"
      },
      "source": [
        ">> ## **Standard Scaling**"
      ]
    },
    {
      "cell_type": "code",
      "metadata": {
        "id": "RIwQoWPwWlDB"
      },
      "source": [
        "from sklearn.preprocessing import MinMaxScaler"
      ],
      "execution_count": 310,
      "outputs": []
    },
    {
      "cell_type": "code",
      "metadata": {
        "id": "ydHQcZ5iWwxq"
      },
      "source": [
        "x=MinMaxScaler().fit_transform(x)\n",
        "y=data['target'].values"
      ],
      "execution_count": 311,
      "outputs": []
    },
    {
      "cell_type": "code",
      "metadata": {
        "id": "SJTbX6vWW49F"
      },
      "source": [
        "from sklearn.model_selection import train_test_split\n",
        "x_train,x_test,y_train,y_test=train_test_split(x,y,test_size=0.2,random_state=2)"
      ],
      "execution_count": 312,
      "outputs": []
    },
    {
      "cell_type": "code",
      "metadata": {
        "id": "FqKWgUlXXHgm"
      },
      "source": [
        "accuracy_scores=[]\n",
        "precision_scores=[]\n",
        "for name, clf in clfs.items():\n",
        "  current_accuracy,current_precision=result(clf,x_train,y_train,x_test,y_test)\n",
        "  #print('For',name)\n",
        "  #print(\"Accuracy : \",current_accuracy)\n",
        "  #print(\"Precision : \",current_precision,'\\n')\n",
        "\n",
        "  accuracy_scores.append(current_accuracy)\n",
        "  precision_scores.append(current_precision)"
      ],
      "execution_count": 313,
      "outputs": []
    },
    {
      "cell_type": "code",
      "metadata": {
        "id": "T2a_lgw0X3hL"
      },
      "source": [
        "result_scaled=pd.DataFrame({'Algorithm':clfs.keys(),'Accuracy_scaled':accuracy_scores,'Precision_scaled':precision_scores,}).sort_values('Precision_scaled',ascending=False)"
      ],
      "execution_count": 314,
      "outputs": []
    },
    {
      "cell_type": "code",
      "metadata": {
        "id": "20JoQW77YMa8"
      },
      "source": [
        "result3=result2.merge(result_scaled,on='Algorithm')"
      ],
      "execution_count": 315,
      "outputs": []
    },
    {
      "cell_type": "code",
      "metadata": {
        "colab": {
          "base_uri": "https://localhost:8080/",
          "height": 452
        },
        "id": "Nqt-kuKnYeI6",
        "outputId": "98648633-6098-4e4a-9bc6-ae6f687e84e0"
      },
      "source": [
        "result3"
      ],
      "execution_count": 316,
      "outputs": [
        {
          "output_type": "execute_result",
          "data": {
            "text/html": [
              "<div>\n",
              "<style scoped>\n",
              "    .dataframe tbody tr th:only-of-type {\n",
              "        vertical-align: middle;\n",
              "    }\n",
              "\n",
              "    .dataframe tbody tr th {\n",
              "        vertical-align: top;\n",
              "    }\n",
              "\n",
              "    .dataframe thead th {\n",
              "        text-align: right;\n",
              "    }\n",
              "</style>\n",
              "<table border=\"1\" class=\"dataframe\">\n",
              "  <thead>\n",
              "    <tr style=\"text-align: right;\">\n",
              "      <th></th>\n",
              "      <th>Algorithm</th>\n",
              "      <th>Accuracy</th>\n",
              "      <th>Precision</th>\n",
              "      <th>Accuracy_mf_3000</th>\n",
              "      <th>Precision_mf_3000</th>\n",
              "      <th>Accuracy_scaled</th>\n",
              "      <th>Precision_scaled</th>\n",
              "    </tr>\n",
              "  </thead>\n",
              "  <tbody>\n",
              "    <tr>\n",
              "      <th>0</th>\n",
              "      <td>KNeighbors</td>\n",
              "      <td>0.900387</td>\n",
              "      <td>1.000000</td>\n",
              "      <td>0.905222</td>\n",
              "      <td>1.000000</td>\n",
              "      <td>0.905222</td>\n",
              "      <td>1.000000</td>\n",
              "    </tr>\n",
              "    <tr>\n",
              "      <th>1</th>\n",
              "      <td>Multinomial Naive Bayes</td>\n",
              "      <td>0.959381</td>\n",
              "      <td>1.000000</td>\n",
              "      <td>0.972921</td>\n",
              "      <td>1.000000</td>\n",
              "      <td>0.978723</td>\n",
              "      <td>0.939394</td>\n",
              "    </tr>\n",
              "    <tr>\n",
              "      <th>2</th>\n",
              "      <td>Random Forest</td>\n",
              "      <td>0.976789</td>\n",
              "      <td>0.991379</td>\n",
              "      <td>0.971954</td>\n",
              "      <td>0.973913</td>\n",
              "      <td>0.971954</td>\n",
              "      <td>0.973913</td>\n",
              "    </tr>\n",
              "    <tr>\n",
              "      <th>3</th>\n",
              "      <td>Extra Trees</td>\n",
              "      <td>0.975822</td>\n",
              "      <td>0.974790</td>\n",
              "      <td>0.977756</td>\n",
              "      <td>0.983193</td>\n",
              "      <td>0.977756</td>\n",
              "      <td>0.983193</td>\n",
              "    </tr>\n",
              "    <tr>\n",
              "      <th>4</th>\n",
              "      <td>Bernoulli Naive Bayes</td>\n",
              "      <td>0.970986</td>\n",
              "      <td>0.973684</td>\n",
              "      <td>0.981625</td>\n",
              "      <td>0.991736</td>\n",
              "      <td>0.981625</td>\n",
              "      <td>0.991736</td>\n",
              "    </tr>\n",
              "    <tr>\n",
              "      <th>5</th>\n",
              "      <td>Support Vector</td>\n",
              "      <td>0.972921</td>\n",
              "      <td>0.966102</td>\n",
              "      <td>0.974855</td>\n",
              "      <td>0.966667</td>\n",
              "      <td>0.970986</td>\n",
              "      <td>0.935484</td>\n",
              "    </tr>\n",
              "    <tr>\n",
              "      <th>6</th>\n",
              "      <td>Logistic Regression</td>\n",
              "      <td>0.952611</td>\n",
              "      <td>0.932039</td>\n",
              "      <td>0.957447</td>\n",
              "      <td>0.951923</td>\n",
              "      <td>0.967118</td>\n",
              "      <td>0.964286</td>\n",
              "    </tr>\n",
              "    <tr>\n",
              "      <th>7</th>\n",
              "      <td>Adaboost</td>\n",
              "      <td>0.961315</td>\n",
              "      <td>0.929825</td>\n",
              "      <td>0.964217</td>\n",
              "      <td>0.931624</td>\n",
              "      <td>0.964217</td>\n",
              "      <td>0.931624</td>\n",
              "    </tr>\n",
              "    <tr>\n",
              "      <th>8</th>\n",
              "      <td>XGB Classifier</td>\n",
              "      <td>0.950677</td>\n",
              "      <td>0.914286</td>\n",
              "      <td>0.946809</td>\n",
              "      <td>0.946237</td>\n",
              "      <td>0.946809</td>\n",
              "      <td>0.946237</td>\n",
              "    </tr>\n",
              "    <tr>\n",
              "      <th>9</th>\n",
              "      <td>Gradient Boosting</td>\n",
              "      <td>0.951644</td>\n",
              "      <td>0.892857</td>\n",
              "      <td>0.948743</td>\n",
              "      <td>0.929293</td>\n",
              "      <td>0.948743</td>\n",
              "      <td>0.929293</td>\n",
              "    </tr>\n",
              "    <tr>\n",
              "      <th>10</th>\n",
              "      <td>Bagging</td>\n",
              "      <td>0.959381</td>\n",
              "      <td>0.869231</td>\n",
              "      <td>0.954545</td>\n",
              "      <td>0.858268</td>\n",
              "      <td>0.954545</td>\n",
              "      <td>0.858268</td>\n",
              "    </tr>\n",
              "    <tr>\n",
              "      <th>11</th>\n",
              "      <td>Decision Tree</td>\n",
              "      <td>0.934236</td>\n",
              "      <td>0.830189</td>\n",
              "      <td>0.932302</td>\n",
              "      <td>0.846939</td>\n",
              "      <td>0.928433</td>\n",
              "      <td>0.826531</td>\n",
              "    </tr>\n",
              "    <tr>\n",
              "      <th>12</th>\n",
              "      <td>Gaussian Naive Bayes</td>\n",
              "      <td>0.870406</td>\n",
              "      <td>0.509009</td>\n",
              "      <td>0.867505</td>\n",
              "      <td>0.502242</td>\n",
              "      <td>0.869439</td>\n",
              "      <td>0.506329</td>\n",
              "    </tr>\n",
              "  </tbody>\n",
              "</table>\n",
              "</div>"
            ],
            "text/plain": [
              "                  Algorithm  Accuracy  ...  Accuracy_scaled  Precision_scaled\n",
              "0                KNeighbors  0.900387  ...         0.905222          1.000000\n",
              "1   Multinomial Naive Bayes  0.959381  ...         0.978723          0.939394\n",
              "2             Random Forest  0.976789  ...         0.971954          0.973913\n",
              "3               Extra Trees  0.975822  ...         0.977756          0.983193\n",
              "4     Bernoulli Naive Bayes  0.970986  ...         0.981625          0.991736\n",
              "5            Support Vector  0.972921  ...         0.970986          0.935484\n",
              "6       Logistic Regression  0.952611  ...         0.967118          0.964286\n",
              "7                  Adaboost  0.961315  ...         0.964217          0.931624\n",
              "8            XGB Classifier  0.950677  ...         0.946809          0.946237\n",
              "9         Gradient Boosting  0.951644  ...         0.948743          0.929293\n",
              "10                  Bagging  0.959381  ...         0.954545          0.858268\n",
              "11            Decision Tree  0.934236  ...         0.928433          0.826531\n",
              "12     Gaussian Naive Bayes  0.870406  ...         0.869439          0.506329\n",
              "\n",
              "[13 rows x 7 columns]"
            ]
          },
          "metadata": {},
          "execution_count": 316
        }
      ]
    },
    {
      "cell_type": "markdown",
      "metadata": {
        "id": "9oC-kBy5be37"
      },
      "source": [
        "Our best performing model is Multinomial Naive Bayes with max_features = 3000, with Precision =1 and accuracy = 97.2921%"
      ]
    },
    {
      "cell_type": "code",
      "metadata": {
        "id": "4A_pJ9XfYf0e"
      },
      "source": [
        ""
      ],
      "execution_count": 316,
      "outputs": []
    }
  ]
}